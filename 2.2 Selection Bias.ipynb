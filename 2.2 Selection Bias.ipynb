{
 "cells": [
  {
   "cell_type": "markdown",
   "id": "36472866-c84d-421d-8efc-f51cc7aa94fb",
   "metadata": {},
   "source": [
    "## 🧠 Assignemnt 2.2: Selection Bias\n",
    "\n",
    "### 📘 PART A: Conceptual Questions\n"
   ]
  },
  {
   "cell_type": "markdown",
   "id": "eded25e2-b1ec-4720-b84e-67d411c0f2c2",
   "metadata": {},
   "source": [
    "### **Q1. Definition**\n",
    "\n",
    "In your own words, what is **selection bias**? What makes it different from simple random sampling error?\n",
    "\n",
    "---"
   ]
  },
  {
   "cell_type": "markdown",
   "id": "73b285ef-b961-4f26-9f32-2697b966420d",
   "metadata": {},
   "source": [
    "**Answer:** Selection bias is the practice of unconciously or conciously selecting data in a way that is misleading. This is different from simple random sampling error because it is not an error that occurs from a miscount of the sample or the type of sample you choose. It occurs more from personal bias when you are over-analysing data in order to find something in it that will match your assumption."
   ]
  },
  {
   "cell_type": "markdown",
   "id": "5be44333-03fe-4ada-bc5b-4535fc918924",
   "metadata": {},
   "source": [
    "### **Q2. Types of Selection Bias**\n",
    "\n",
    "Name and briefly describe **two types of selection bias**, giving a short real-world example for each.\n",
    "\n",
    "---"
   ]
  },
  {
   "cell_type": "markdown",
   "id": "a2ab8be0-31b9-4e79-b20f-833c370655b1",
   "metadata": {},
   "source": [
    "#### Answer:"
   ]
  },
  {
   "cell_type": "markdown",
   "id": "567b0dbe-3928-43cc-bba6-0912ceffb032",
   "metadata": {},
   "source": [
    "**Sampling Bias:**\n",
    "\n",
    "This type of bias arises when the sample used in a study doesn't accurately reflect the characteristics of the broader population. For example, if a survey is conducted only on premium users of a service, the results might not accurately represent the opinions of all users, including those who use the free version. \n",
    "\n",
    "**Self-Selection Bias:**\n",
    "\n",
    "This bias occurs when participants are not randomly selected but choose to participate in a study. People who choose to participate may have different characteristics or motivations than those who do not, potentially skewing the results. For instance, a study on a new drug might attract participants who are more motivated or engaged with their health, leading to a skewed view of the drug's effectiveness. "
   ]
  },
  {
   "cell_type": "markdown",
   "id": "78421a67-ed75-43b5-9a74-0507c9f9de68",
   "metadata": {},
   "source": [
    "### **Q3. Self-Selection Bias**\n",
    "\n",
    "Explain how **self-selection bias** might affect the results of an online mental health survey.\n",
    "\n",
    "---"
   ]
  },
  {
   "cell_type": "markdown",
   "id": "60e27cf5-3ffe-4d09-bf07-2dfa6186479e",
   "metadata": {},
   "source": [
    "**Answer:** Self-selection bias might affect the survey by skewing the results towards people who are more motivated or engaged with their health. This may be because such people are likely the ones who are willing to actively answer health surveys."
   ]
  },
  {
   "cell_type": "markdown",
   "id": "093e2bc0-2a55-49a0-b95d-7a3e12631cee",
   "metadata": {},
   "source": [
    "### **Q4. Survivorship Bias**\n",
    "\n",
    "What is **survivorship bias**? How could it distort the results in a study of company performance over 10 years?\n",
    "\n",
    "---"
   ]
  },
  {
   "cell_type": "markdown",
   "id": "20e13d58-7825-4431-ad0c-0d3936ef1104",
   "metadata": {},
   "source": [
    "**Answer:** Suvivorship bias is when a successful subgroup is mistaken as the entire group, because the the group that failed is not visible. For example, in business schools where \"Unicorns\" are celebrated as the standard when 90% of businesses are known fail. In this case, the failed business are ignored or forgotten making people think that having a successful business is the norm.\n",
    "\n",
    "This could distort the results in a study of company performance by neglecting instances where the business made losses and focusing only on the wins. These may lead business stakeholders to assume that the company wins are norms instead of the exception."
   ]
  },
  {
   "cell_type": "markdown",
   "id": "cce7040a-1538-4e2e-8cf6-3ab0e47a178b",
   "metadata": {},
   "source": [
    "### 📘 PART B: Practical Thinking\n",
    "\n",
    "### **Q5. Detection**\n",
    "\n",
    "You are analyzing the results of a survey. What are **two red flags** that might indicate your data suffers from selection bias?\n",
    "\n",
    "---"
   ]
  },
  {
   "cell_type": "markdown",
   "id": "62014265-e0db-436c-b72b-f1b6151985e0",
   "metadata": {},
   "source": [
    "**Answer:**\n",
    "\n",
    "* Recurring demographic variables such as a huge number of teenage-aged population.\n",
    "* A larger number of participants who learnt about the survey through one medium."
   ]
  },
  {
   "cell_type": "markdown",
   "id": "c8d380cd-787b-47e2-9cac-0f52ee899745",
   "metadata": {},
   "source": [
    "### **Q6. Prevention**\n",
    "\n",
    "Give one **practical strategy** for reducing selection bias when designing a data collection process.\n",
    "\n",
    "---"
   ]
  },
  {
   "cell_type": "markdown",
   "id": "1f7ea128-3dcc-46ac-9891-e4beaad3029c",
   "metadata": {},
   "source": [
    "**Answer:** One strategy may be to design the research or analysis process in advance before looking at the data in order to avoid \"flights of fancy\" when exploring the data."
   ]
  }
 ],
 "metadata": {
  "kernelspec": {
   "display_name": "Python 3 (ipykernel)",
   "language": "python",
   "name": "python3"
  },
  "language_info": {
   "codemirror_mode": {
    "name": "ipython",
    "version": 3
   },
   "file_extension": ".py",
   "mimetype": "text/x-python",
   "name": "python",
   "nbconvert_exporter": "python",
   "pygments_lexer": "ipython3",
   "version": "3.13.1"
  }
 },
 "nbformat": 4,
 "nbformat_minor": 5
}
