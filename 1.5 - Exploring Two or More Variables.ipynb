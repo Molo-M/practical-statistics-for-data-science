{
 "cells": [
  {
   "cell_type": "markdown",
   "id": "2166aec8-ab2b-425c-a3d8-d2b22b3bbf58",
   "metadata": {
    "jp-MarkdownHeadingCollapsed": true
   },
   "source": [
    "## 📊 **Dataset:**\n",
    "\n",
    "```python\n",
    "import pandas as pd\n",
    "\n",
    "data = {\n",
    "    'State': ['Alabama', 'Alaska', 'Arizona', 'Arkansas', 'California',\n",
    "              'Colorado', 'Connecticut', 'Delaware', 'Florida', 'Georgia',\n",
    "              'Hawaii', 'Idaho', 'Illinois', 'Indiana', 'Iowa'],\n",
    "    'Region': ['South', 'West', 'West', 'South', 'West',\n",
    "               'West', 'Northeast', 'South', 'South', 'South',\n",
    "               'West', 'West', 'Midwest', 'Midwest', 'Midwest'],\n",
    "    'Population': [4779736, 710231, 6392017, 2915918, 37253956,\n",
    "                   5029196, 3574097, 897934, 18801310, 9687653,\n",
    "                   1360301, 1567582, 12830632, 6483802, 3046355],\n",
    "    'Murder.Rate': [5.7, 5.6, 4.7, 5.6, 4.4,\n",
    "                    2.8, 2.4, 5.8, 5.2, 6.0,\n",
    "                    1.8, 2.3, 5.5, 5.7, 1.9],\n",
    "    'Unemployment.Rate': [6.8, 7.6, 8.3, 7.9, 9.0,\n",
    "                          6.0, 5.1, 7.5, 10.2, 9.8,\n",
    "                          4.7, 5.4, 8.8, 7.1, 4.3]\n",
    "}\n",
    "\n",
    "state = pd.DataFrame(data)\n",
    "```\n",
    "\n",
    "---\n",
    "\n",
    "## 🧠 Quiz: Exploring Two or More Variables\n",
    "\n",
    "### 📘 PART A: Numerical and Categorical Relationships\n",
    "\n",
    "**Q1. Conditional Boxplot**\n",
    "Create a **boxplot** that shows the distribution of *Murder.Rate* by *Region*.\n",
    "Then answer: Which region has the highest median murder rate? Which has the widest spread?\n",
    "\n",
    "\n",
    "\n",
    "**Q2. Grouped Summary Statistics**\n",
    "Compute the **mean** and **standard deviation** of *Unemployment.Rate* grouped by *Region*.\n",
    "\n",
    "* Which region has the **highest average unemployment rate**?\n",
    "* Which region has the **most variation** in unemployment rate?\n",
    "\n",
    "\n",
    "\n",
    "**Q3. Correlation by Subgroup**\n",
    "Compute the **correlation between Population and Murder.Rate** for each Region separately.\n",
    "Which region shows the **strongest** and **weakest** correlation?\n",
    "\n",
    "\n",
    "\n",
    "### 📘 PART B: Scatterplots and Relationships\n",
    "\n",
    "**Q4. Trend in Scatterplot**\n",
    "Plot a scatterplot of *Population vs. Murder.Rate*.\n",
    "\n",
    "* Is there any obvious trend or pattern?\n",
    "* Would you consider this a strong relationship?\n",
    "\n",
    "\n",
    "\n",
    "**Q5. Faceted Scatterplots**\n",
    "Create faceted scatterplots (or use grouping) of *Population vs. Murder.Rate*, split by *Region*.\n",
    "\n",
    "* Do the patterns differ by region?\n",
    "* Is the trend clearer in any one region?\n",
    "\n",
    "\n",
    "\n",
    "**Q6. Conceptual: Simpson’s Paradox**\n",
    "Briefly explain what **Simpson’s Paradox** is, and provide a **hypothetical example** of how it might appear in this data (or similar datasets).\n",
    "\n"
   ]
  },
  {
   "cell_type": "markdown",
   "id": "c24f2433-c7bc-4460-a731-2b6254d8a842",
   "metadata": {},
   "source": [
    "# Answers:"
   ]
  },
  {
   "cell_type": "markdown",
   "id": "e8dd13a2-7aff-4a16-a62c-2aeec09baa0b",
   "metadata": {},
   "source": [
    "Import dataset:"
   ]
  },
  {
   "cell_type": "code",
   "execution_count": 1,
   "id": "141a1435-852e-4392-a322-3a50e2512bea",
   "metadata": {},
   "outputs": [],
   "source": [
    "import pandas as pd\n",
    "\n",
    "data = {\n",
    "    'State': ['Alabama', 'Alaska', 'Arizona', 'Arkansas', 'California',\n",
    "              'Colorado', 'Connecticut', 'Delaware', 'Florida', 'Georgia',\n",
    "              'Hawaii', 'Idaho', 'Illinois', 'Indiana', 'Iowa'],\n",
    "    'Region': ['South', 'West', 'West', 'South', 'West',\n",
    "               'West', 'Northeast', 'South', 'South', 'South',\n",
    "               'West', 'West', 'Midwest', 'Midwest', 'Midwest'],\n",
    "    'Population': [4779736, 710231, 6392017, 2915918, 37253956,\n",
    "                   5029196, 3574097, 897934, 18801310, 9687653,\n",
    "                   1360301, 1567582, 12830632, 6483802, 3046355],\n",
    "    'Murder.Rate': [5.7, 5.6, 4.7, 5.6, 4.4,\n",
    "                    2.8, 2.4, 5.8, 5.2, 6.0,\n",
    "                    1.8, 2.3, 5.5, 5.7, 1.9],\n",
    "    'Unemployment.Rate': [6.8, 7.6, 8.3, 7.9, 9.0,\n",
    "                          6.0, 5.1, 7.5, 10.2, 9.8,\n",
    "                          4.7, 5.4, 8.8, 7.1, 4.3]\n",
    "}\n",
    "\n",
    "state = pd.DataFrame(data)"
   ]
  },
  {
   "cell_type": "markdown",
   "id": "7a7d5440-4824-4955-9eaf-4e93f1d4d8d4",
   "metadata": {},
   "source": [
    "View the data set:"
   ]
  },
  {
   "cell_type": "code",
   "execution_count": 2,
   "id": "3d5acf14-341c-4d21-a7a9-5c18cbd64b8e",
   "metadata": {},
   "outputs": [
    {
     "data": {
      "text/html": [
       "<div>\n",
       "<style scoped>\n",
       "    .dataframe tbody tr th:only-of-type {\n",
       "        vertical-align: middle;\n",
       "    }\n",
       "\n",
       "    .dataframe tbody tr th {\n",
       "        vertical-align: top;\n",
       "    }\n",
       "\n",
       "    .dataframe thead th {\n",
       "        text-align: right;\n",
       "    }\n",
       "</style>\n",
       "<table border=\"1\" class=\"dataframe\">\n",
       "  <thead>\n",
       "    <tr style=\"text-align: right;\">\n",
       "      <th></th>\n",
       "      <th>State</th>\n",
       "      <th>Region</th>\n",
       "      <th>Population</th>\n",
       "      <th>Murder.Rate</th>\n",
       "      <th>Unemployment.Rate</th>\n",
       "    </tr>\n",
       "  </thead>\n",
       "  <tbody>\n",
       "    <tr>\n",
       "      <th>0</th>\n",
       "      <td>Alabama</td>\n",
       "      <td>South</td>\n",
       "      <td>4779736</td>\n",
       "      <td>5.7</td>\n",
       "      <td>6.8</td>\n",
       "    </tr>\n",
       "    <tr>\n",
       "      <th>1</th>\n",
       "      <td>Alaska</td>\n",
       "      <td>West</td>\n",
       "      <td>710231</td>\n",
       "      <td>5.6</td>\n",
       "      <td>7.6</td>\n",
       "    </tr>\n",
       "    <tr>\n",
       "      <th>2</th>\n",
       "      <td>Arizona</td>\n",
       "      <td>West</td>\n",
       "      <td>6392017</td>\n",
       "      <td>4.7</td>\n",
       "      <td>8.3</td>\n",
       "    </tr>\n",
       "    <tr>\n",
       "      <th>3</th>\n",
       "      <td>Arkansas</td>\n",
       "      <td>South</td>\n",
       "      <td>2915918</td>\n",
       "      <td>5.6</td>\n",
       "      <td>7.9</td>\n",
       "    </tr>\n",
       "    <tr>\n",
       "      <th>4</th>\n",
       "      <td>California</td>\n",
       "      <td>West</td>\n",
       "      <td>37253956</td>\n",
       "      <td>4.4</td>\n",
       "      <td>9.0</td>\n",
       "    </tr>\n",
       "    <tr>\n",
       "      <th>5</th>\n",
       "      <td>Colorado</td>\n",
       "      <td>West</td>\n",
       "      <td>5029196</td>\n",
       "      <td>2.8</td>\n",
       "      <td>6.0</td>\n",
       "    </tr>\n",
       "    <tr>\n",
       "      <th>6</th>\n",
       "      <td>Connecticut</td>\n",
       "      <td>Northeast</td>\n",
       "      <td>3574097</td>\n",
       "      <td>2.4</td>\n",
       "      <td>5.1</td>\n",
       "    </tr>\n",
       "    <tr>\n",
       "      <th>7</th>\n",
       "      <td>Delaware</td>\n",
       "      <td>South</td>\n",
       "      <td>897934</td>\n",
       "      <td>5.8</td>\n",
       "      <td>7.5</td>\n",
       "    </tr>\n",
       "    <tr>\n",
       "      <th>8</th>\n",
       "      <td>Florida</td>\n",
       "      <td>South</td>\n",
       "      <td>18801310</td>\n",
       "      <td>5.2</td>\n",
       "      <td>10.2</td>\n",
       "    </tr>\n",
       "    <tr>\n",
       "      <th>9</th>\n",
       "      <td>Georgia</td>\n",
       "      <td>South</td>\n",
       "      <td>9687653</td>\n",
       "      <td>6.0</td>\n",
       "      <td>9.8</td>\n",
       "    </tr>\n",
       "    <tr>\n",
       "      <th>10</th>\n",
       "      <td>Hawaii</td>\n",
       "      <td>West</td>\n",
       "      <td>1360301</td>\n",
       "      <td>1.8</td>\n",
       "      <td>4.7</td>\n",
       "    </tr>\n",
       "    <tr>\n",
       "      <th>11</th>\n",
       "      <td>Idaho</td>\n",
       "      <td>West</td>\n",
       "      <td>1567582</td>\n",
       "      <td>2.3</td>\n",
       "      <td>5.4</td>\n",
       "    </tr>\n",
       "    <tr>\n",
       "      <th>12</th>\n",
       "      <td>Illinois</td>\n",
       "      <td>Midwest</td>\n",
       "      <td>12830632</td>\n",
       "      <td>5.5</td>\n",
       "      <td>8.8</td>\n",
       "    </tr>\n",
       "    <tr>\n",
       "      <th>13</th>\n",
       "      <td>Indiana</td>\n",
       "      <td>Midwest</td>\n",
       "      <td>6483802</td>\n",
       "      <td>5.7</td>\n",
       "      <td>7.1</td>\n",
       "    </tr>\n",
       "    <tr>\n",
       "      <th>14</th>\n",
       "      <td>Iowa</td>\n",
       "      <td>Midwest</td>\n",
       "      <td>3046355</td>\n",
       "      <td>1.9</td>\n",
       "      <td>4.3</td>\n",
       "    </tr>\n",
       "  </tbody>\n",
       "</table>\n",
       "</div>"
      ],
      "text/plain": [
       "          State     Region  Population  Murder.Rate  Unemployment.Rate\n",
       "0       Alabama      South     4779736          5.7                6.8\n",
       "1        Alaska       West      710231          5.6                7.6\n",
       "2       Arizona       West     6392017          4.7                8.3\n",
       "3      Arkansas      South     2915918          5.6                7.9\n",
       "4    California       West    37253956          4.4                9.0\n",
       "5      Colorado       West     5029196          2.8                6.0\n",
       "6   Connecticut  Northeast     3574097          2.4                5.1\n",
       "7      Delaware      South      897934          5.8                7.5\n",
       "8       Florida      South    18801310          5.2               10.2\n",
       "9       Georgia      South     9687653          6.0                9.8\n",
       "10       Hawaii       West     1360301          1.8                4.7\n",
       "11        Idaho       West     1567582          2.3                5.4\n",
       "12     Illinois    Midwest    12830632          5.5                8.8\n",
       "13      Indiana    Midwest     6483802          5.7                7.1\n",
       "14         Iowa    Midwest     3046355          1.9                4.3"
      ]
     },
     "execution_count": 2,
     "metadata": {},
     "output_type": "execute_result"
    }
   ],
   "source": [
    "state"
   ]
  },
  {
   "cell_type": "markdown",
   "id": "157bf7f3-6fa4-4d45-b683-1f335a2e79a3",
   "metadata": {},
   "source": [
    "**Q1. Conditional Boxplot**\n",
    "Create a **boxplot** that shows the distribution of *Murder.Rate* by *Region*.\n",
    "Then answer: Which region has the highest median murder rate? Which has the widest spread?\n"
   ]
  },
  {
   "cell_type": "code",
   "execution_count": 3,
   "id": "7a554247-3b0e-4e57-968a-671a17addd67",
   "metadata": {},
   "outputs": [
    {
     "data": {
      "image/png": "[encoded data removed]",
      "text/plain": [
       "<Figure size 640x480 with 1 Axes>"
      ]
     },
     "metadata": {},
     "output_type": "display_data"
    }
   ],
   "source": [
    "# import libraries that may be useful:\n",
    "import matplotlib.pyplot as plt\n",
    "import seaborn as sns\n",
    "\n",
    "# Create the boxplot\n",
    "sns.boxplot(x='Region', y='Murder.Rate', data=state)\n",
    "\n",
    "# Add title and labels\n",
    "plt.title('Distrubution of Murder Rate by Region')\n",
    "plt.xlabel('Region')\n",
    "plt.ylabel('Murder.Rate')\n",
    "\n",
    "# Show the plot\n",
    "plt.show()"
   ]
  },
  {
   "cell_type": "markdown",
   "id": "f28f4b1c-a3ff-4e70-8e5e-63b4a1286ac8",
   "metadata": {},
   "source": [
    "**Answer:** It seems the South has the highest median murder rate while the West has the widest spread."
   ]
  },
  {
   "cell_type": "markdown",
   "id": "5b6d18ec-8432-46b7-a565-ffc1063dc7ce",
   "metadata": {},
   "source": [
    "**Q2. Grouped Summary Statistics**\n",
    "Compute the **mean** and **standard deviation** of *Unemployment.Rate* grouped by *Region*.\n",
    "\n",
    "* Which region has the **highest average unemployment rate**?\n",
    "* Which region has the **most variation** in unemployment rate?\n"
   ]
  },
  {
   "cell_type": "markdown",
   "id": "e34e3367-9792-4b4a-b2d4-5587147cf3d3",
   "metadata": {},
   "source": [
    "Check the mean:"
   ]
  },
  {
   "cell_type": "code",
   "execution_count": 4,
   "id": "45ba71f5-8c6a-4f34-aba3-aa3a31de7904",
   "metadata": {},
   "outputs": [
    {
     "data": {
      "text/html": [
       "<div>\n",
       "<style scoped>\n",
       "    .dataframe tbody tr th:only-of-type {\n",
       "        vertical-align: middle;\n",
       "    }\n",
       "\n",
       "    .dataframe tbody tr th {\n",
       "        vertical-align: top;\n",
       "    }\n",
       "\n",
       "    .dataframe thead th {\n",
       "        text-align: right;\n",
       "    }\n",
       "</style>\n",
       "<table border=\"1\" class=\"dataframe\">\n",
       "  <thead>\n",
       "    <tr style=\"text-align: right;\">\n",
       "      <th></th>\n",
       "      <th>Mean</th>\n",
       "      <th>Standard Deviation</th>\n",
       "    </tr>\n",
       "    <tr>\n",
       "      <th>Region</th>\n",
       "      <th></th>\n",
       "      <th></th>\n",
       "    </tr>\n",
       "  </thead>\n",
       "  <tbody>\n",
       "    <tr>\n",
       "      <th>Midwest</th>\n",
       "      <td>6.733333</td>\n",
       "      <td>2.272297</td>\n",
       "    </tr>\n",
       "    <tr>\n",
       "      <th>Northeast</th>\n",
       "      <td>5.100000</td>\n",
       "      <td>NaN</td>\n",
       "    </tr>\n",
       "    <tr>\n",
       "      <th>South</th>\n",
       "      <td>8.440000</td>\n",
       "      <td>1.484251</td>\n",
       "    </tr>\n",
       "    <tr>\n",
       "      <th>West</th>\n",
       "      <td>6.833333</td>\n",
       "      <td>1.716586</td>\n",
       "    </tr>\n",
       "  </tbody>\n",
       "</table>\n",
       "</div>"
      ],
      "text/plain": [
       "               Mean  Standard Deviation\n",
       "Region                                 \n",
       "Midwest    6.733333            2.272297\n",
       "Northeast  5.100000                 NaN\n",
       "South      8.440000            1.484251\n",
       "West       6.833333            1.716586"
      ]
     },
     "execution_count": 4,
     "metadata": {},
     "output_type": "execute_result"
    }
   ],
   "source": [
    "# Compute the mean\n",
    "region_mean = state[[\"Region\", \"Unemployment.Rate\"]].groupby([\"Region\"]).mean().rename(columns={\"Unemployment.Rate\": \"Mean\"})\n",
    "\n",
    "# Compute the standard deviation\n",
    "region_std = state[[\"Region\", \"Unemployment.Rate\"]].groupby([\"Region\"]).std().rename(columns={\"Unemployment.Rate\": \"Standard Deviation\"})\n",
    "\n",
    "# Join them together through the index\n",
    "region_mean_std = pd.concat([region_mean, region_std], axis=1)\n",
    "region_mean_std"
   ]
  },
  {
   "cell_type": "markdown",
   "id": "0c41b829-476c-4c13-9c1e-0eff0d4594dc",
   "metadata": {},
   "source": [
    "**Answer:** The South has the highest average unemployment rate while the Midwest has the most variation in unemployment rate."
   ]
  },
  {
   "cell_type": "markdown",
   "id": "92510b5d-814d-4b3c-b370-e69fc44cfe8a",
   "metadata": {},
   "source": [
    "**Q3. Correlation by Subgroup**\n",
    "Compute the **correlation between Population and Murder.Rate** for each Region separately.\n",
    "Which region shows the **strongest** and **weakest** correlation?\n"
   ]
  },
  {
   "cell_type": "code",
   "execution_count": 18,
   "id": "84416702-9983-4b17-92ff-bc98431ea5db",
   "metadata": {},
   "outputs": [
    {
     "name": "stdout",
     "output_type": "stream",
     "text": [
      "South  Correlation: -0.6144519966593066\n",
      "West  Correlation: 0.2779682887585393\n",
      "Northeast  Correlation: nan\n",
      "Midwest  Correlation: 0.7382013577121634\n"
     ]
    }
   ],
   "source": [
    "# Get the names of each region\n",
    "regions = state['Region'].unique()\n",
    "\n",
    "# Loop through all the regions:\n",
    "for i in range(len(regions)):\n",
    "    # store region name\n",
    "    region_name = regions[i]\n",
    "    \n",
    "    # Create mask to filter by region\n",
    "    mask = state['Region'] == region_name\n",
    "    \n",
    "    # Create new variable to store filtered dataframe\n",
    "    filt_state = state[mask]\n",
    "    \n",
    "    # Calculate correlation\n",
    "    corr = filt_state['Population'].corr(filt_state['Murder.Rate'])\n",
    "\n",
    "    # Print out the results:\n",
    "    print(f\"{region_name}  Correlation: {corr}\")"
   ]
  },
  {
   "cell_type": "markdown",
   "id": "877d922e-d030-47b7-aac3-aa9334fc833d",
   "metadata": {},
   "source": [
    "The Midwest shows the **highest** correlation between population and murder rate while the West shows the **lowest** correlation. The Northeast doesn't have a valid correlation because there was only one data point for it."
   ]
  },
  {
   "cell_type": "markdown",
   "id": "9e47c20d-0f2b-4ee9-8be2-16f966aad107",
   "metadata": {},
   "source": [
    "**Q4. Trend in Scatterplot**\n",
    "Plot a scatterplot of *Population vs. Murder.Rate*.\n",
    "\n",
    "* Is there any obvious trend or pattern?\n",
    "* Would you consider this a strong relationship?"
   ]
  },
  {
   "cell_type": "code",
   "execution_count": 29,
   "id": "62856f8b-9c7d-44e1-b469-3c3144755e53",
   "metadata": {},
   "outputs": [
    {
     "data": {
      "image/png": "[encoded data removed]",
      "text/plain": [
       "<Figure size 640x480 with 1 Axes>"
      ]
     },
     "metadata": {},
     "output_type": "display_data"
    }
   ],
   "source": [
    "sns.scatterplot(data=state, x=\"Population\", y=\"Murder.Rate\")\n",
    "plt.title(\"Scatter Plot\")\n",
    "plt.xlabel(\"Population\")\n",
    "plt.ylabel(\"Murder Rate\")\n",
    "plt.show()"
   ]
  },
  {
   "cell_type": "markdown",
   "id": "bc3a3766-4a88-44b4-a277-13fdd8062e4d",
   "metadata": {},
   "source": [
    "**Observation:** It appears that there is weak positive correlation between Population and the murder rate. However there also appears to be an outlier in the data set that might be affecting the level of correlation in the data. Let's confirm the overall correlation:"
   ]
  },
  {
   "cell_type": "code",
   "execution_count": 31,
   "id": "438d6d35-72ff-454a-9201-2f2404bceeb1",
   "metadata": {},
   "outputs": [
    {
     "name": "stdout",
     "output_type": "stream",
     "text": [
      "0.19288762480458216\n"
     ]
    }
   ],
   "source": [
    "print(state['Population'].corr(state['Murder.Rate']))"
   ]
  },
  {
   "cell_type": "markdown",
   "id": "a91dfae0-7690-45a8-806d-c757726479b6",
   "metadata": {},
   "source": [
    "As the result implies, the correlation is a very weak positive one without enough meaning to infer that higher populations may increase crime rates."
   ]
  },
  {
   "cell_type": "markdown",
   "id": "1aa0a55e-6a3f-440c-b269-b5c49899344d",
   "metadata": {},
   "source": [
    "**Q5. Faceted Scatterplots**\n",
    "Create faceted scatterplots (or use grouping) of *Population vs. Murder.Rate*, split by *Region*.\n",
    "\n",
    "* Do the patterns differ by region?\n",
    "* Is the trend clearer in any one region?\n"
   ]
  },
  {
   "cell_type": "code",
   "execution_count": 32,
   "id": "d4572a0d-e948-4ce6-bf24-eb73487b2fc1",
   "metadata": {},
   "outputs": [
    {
     "data": {
      "image/png": "[encoded data removed]",
      "text/plain": [
       "<Figure size 640x480 with 1 Axes>"
      ]
     },
     "metadata": {},
     "output_type": "display_data"
    }
   ],
   "source": [
    "sns.scatterplot(data=state, x=\"Population\", y=\"Murder.Rate\", hue=\"Region\")\n",
    "plt.title(\"Scatter Plot\")\n",
    "plt.xlabel(\"Population\")\n",
    "plt.ylabel(\"Murder Rate\")\n",
    "plt.show()"
   ]
  },
  {
   "cell_type": "markdown",
   "id": "f96e99f6-0186-4a16-9756-ca0e4b24695f",
   "metadata": {},
   "source": [
    "**Observation:** It apppears that the South's correlation looks different from the rest. Here the *murder rate* starts higher than for the rest and appears to decrease as the population increases. \n",
    "\n",
    "It could be considered a negative relationship if it wasn't for the fact the data points are too few to make a correct assumption."
   ]
  },
  {
   "cell_type": "markdown",
   "id": "938b9202-2211-4fd7-bd3a-f439b717d90e",
   "metadata": {},
   "source": [
    "**Q6. Conceptual: Simpson’s Paradox**\n",
    "Briefly explain what **Simpson’s Paradox** is, and provide a **hypothetical example** of how it might appear in this data (or similar datasets).\n"
   ]
  },
  {
   "cell_type": "markdown",
   "id": "8fe9b29d-243b-4db4-995a-f4b09f309d65",
   "metadata": {},
   "source": [
    "Simpson's Paradox, in simple terms, is a statistical phenomenon where a trend appears in several groups of data but disappears or reverses when the groups are combined. This happens because a hidden variable, or confounder, is influencing the relationship. "
   ]
  },
  {
   "cell_type": "markdown",
   "id": "bf3b1f60-e3c0-40ce-8fd9-7478172ae1e2",
   "metadata": {},
   "source": [
    "**Example:**\n",
    "Imagine two football teams, A and B. Team A wins 10 out of 20 games, and Team B wins 8 out of 20 games. It looks like Team A is slightly better. However, if you break it down by month, in the first month, Team A wins 0 out of 5 games, while Team B wins 4 out of 5. In the second month, Team A wins 10 out of 15 games, and Team B wins 4 out of 15. It appears Team A is performing better overall, but this is because the second month had many more games, skewing the results. "
   ]
  }
 ],
 "metadata": {
  "kernelspec": {
   "display_name": "Python 3 (ipykernel)",
   "language": "python",
   "name": "python3"
  },
  "language_info": {
   "codemirror_mode": {
    "name": "ipython",
    "version": 3
   },
   "file_extension": ".py",
   "mimetype": "text/x-python",
   "name": "python",
   "nbconvert_exporter": "python",
   "pygments_lexer": "ipython3",
   "version": "3.13.1"
  }
 },
 "nbformat": 4,
 "nbformat_minor": 5
}
