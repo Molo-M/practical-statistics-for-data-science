{
 "cells": [
  {
   "cell_type": "markdown",
   "id": "2cc067c8-7604-47ee-b783-1ea8586eb971",
   "metadata": {},
   "source": [
    "# Assigment 2\n",
    "\n",
    "This assignment provides questions about the topic of **Estimates of Variability** from the book *Practical Statistics for Data Science*. These questions are designed to help the reader understand the theoretical and practical implementation of these concepts.\n",
    "\n",
    "**Author:** [Molo Munyansanga](https://github.com/Molo-M)"
   ]
  },
  {
   "cell_type": "markdown",
   "id": "5f6010f0-4eed-41ee-be57-724729fd19c4",
   "metadata": {},
   "source": [
    "Here is the data set to help you answer the questions:"
   ]
  },
  {
   "cell_type": "code",
   "execution_count": 1,
   "id": "5c09d136-c1b5-49a4-acb0-845561df3762",
   "metadata": {},
   "outputs": [],
   "source": [
    "import pandas as pd\n",
    "\n",
    "data = {\n",
    "    'State': ['Alabama', 'Alaska', 'Arizona', 'Arkansas', 'California',\n",
    "              'Colorado', 'Connecticut', 'Delaware', 'Florida', 'Georgia',\n",
    "              'Hawaii', 'Idaho', 'Illinois', 'Indiana', 'Iowa'],\n",
    "    'Population': [4779736, 710231, 6392017, 2915918, 37253956,\n",
    "                   5029196, 3574097, 897934, 18801310, 9687653,\n",
    "                   1360301, 1567582, 12830632, 6483802, 3046355],\n",
    "    'Murder.Rate': [5.7, 5.6, 4.7, 5.6, 4.4,\n",
    "                    2.8, 2.4, 5.8, 5.2, 6.0,\n",
    "                    1.8, 2.3, 5.5, 5.7, 1.9]\n",
    "}\n",
    "\n",
    "state = pd.DataFrame(data)\n"
   ]
  },
  {
   "cell_type": "markdown",
   "id": "aa1f37a9-bc44-422f-b78f-1690d688cc2f",
   "metadata": {
    "jp-MarkdownHeadingCollapsed": true
   },
   "source": [
    "### 📘 **Questions**\n",
    "\n",
    "#### Q1. Calculate the standard deviation of the population values using **three methods**:\n",
    "\n",
    "* (a) Manually\n",
    "* (b) With NumPy’s built-in standard deviation function (sample standard deviation, `ddof=1`).\n",
    "* (c) Manually using the formula (no `.std()` or `np.std()`).\n",
    "\n",
    "\n",
    "\n",
    "#### **Q2. Mean Absolute Deviation (MAD)**\n",
    "\n",
    "Calculate the **mean absolute deviation from the mean** for the population.\n",
    "\n",
    "\n",
    "\n",
    "#### **Q3. Median Absolute Deviation (MAD from median)**\n",
    "\n",
    "Compute the **median absolute deviation from the median** for the population values.\n",
    "\n",
    "\n",
    "\n",
    "#### **Q4. Interquartile Range (IQR)**\n",
    "\n",
    "Find the **interquartile range** (75th percentile − 25th percentile) of the murder rates.\n",
    "\n",
    "\n",
    "\n",
    "#### **Q5. Order Statistics**\n",
    "\n",
    "What are the **minimum**, **25th percentile**, **median**, **75th percentile**, and **maximum** values of the population?\n",
    "\n",
    "\n",
    "\n",
    "#### **Q6. Outlier Sensitivity**\n",
    "\n",
    "Compare the **standard deviation** and the **MAD (from the median)**. Based on their values, which one is more **robust** to outliers in this dataset? Explain in 2–3 sentences.\n",
    "\n",
    "\n",
    "\n",
    "#### **Q7. Bonus (Conceptual)**\n",
    "\n",
    "Why might a data scientist prefer using **interquartile range (IQR)** over **standard deviation** when analyzing salary data?\n",
    "\n",
    "\n"
   ]
  },
  {
   "cell_type": "markdown",
   "id": "87495cad-98e5-45d8-855c-e92cf521faa0",
   "metadata": {},
   "source": [
    "# Answers:"
   ]
  },
  {
   "cell_type": "markdown",
   "id": "6595d96f-bbcb-418b-8f47-c92c9eefd539",
   "metadata": {},
   "source": [
    "Here is our data set:"
   ]
  },
  {
   "cell_type": "code",
   "execution_count": 2,
   "id": "af02f2fa-4cd2-4456-b85f-a2c4f900ab54",
   "metadata": {},
   "outputs": [
    {
     "data": {
      "text/html": [
       "<div>\n",
       "<style scoped>\n",
       "    .dataframe tbody tr th:only-of-type {\n",
       "        vertical-align: middle;\n",
       "    }\n",
       "\n",
       "    .dataframe tbody tr th {\n",
       "        vertical-align: top;\n",
       "    }\n",
       "\n",
       "    .dataframe thead th {\n",
       "        text-align: right;\n",
       "    }\n",
       "</style>\n",
       "<table border=\"1\" class=\"dataframe\">\n",
       "  <thead>\n",
       "    <tr style=\"text-align: right;\">\n",
       "      <th></th>\n",
       "      <th>State</th>\n",
       "      <th>Population</th>\n",
       "      <th>Murder.Rate</th>\n",
       "    </tr>\n",
       "  </thead>\n",
       "  <tbody>\n",
       "    <tr>\n",
       "      <th>0</th>\n",
       "      <td>Alabama</td>\n",
       "      <td>4779736</td>\n",
       "      <td>5.7</td>\n",
       "    </tr>\n",
       "    <tr>\n",
       "      <th>1</th>\n",
       "      <td>Alaska</td>\n",
       "      <td>710231</td>\n",
       "      <td>5.6</td>\n",
       "    </tr>\n",
       "    <tr>\n",
       "      <th>2</th>\n",
       "      <td>Arizona</td>\n",
       "      <td>6392017</td>\n",
       "      <td>4.7</td>\n",
       "    </tr>\n",
       "    <tr>\n",
       "      <th>3</th>\n",
       "      <td>Arkansas</td>\n",
       "      <td>2915918</td>\n",
       "      <td>5.6</td>\n",
       "    </tr>\n",
       "    <tr>\n",
       "      <th>4</th>\n",
       "      <td>California</td>\n",
       "      <td>37253956</td>\n",
       "      <td>4.4</td>\n",
       "    </tr>\n",
       "    <tr>\n",
       "      <th>5</th>\n",
       "      <td>Colorado</td>\n",
       "      <td>5029196</td>\n",
       "      <td>2.8</td>\n",
       "    </tr>\n",
       "    <tr>\n",
       "      <th>6</th>\n",
       "      <td>Connecticut</td>\n",
       "      <td>3574097</td>\n",
       "      <td>2.4</td>\n",
       "    </tr>\n",
       "    <tr>\n",
       "      <th>7</th>\n",
       "      <td>Delaware</td>\n",
       "      <td>897934</td>\n",
       "      <td>5.8</td>\n",
       "    </tr>\n",
       "    <tr>\n",
       "      <th>8</th>\n",
       "      <td>Florida</td>\n",
       "      <td>18801310</td>\n",
       "      <td>5.2</td>\n",
       "    </tr>\n",
       "    <tr>\n",
       "      <th>9</th>\n",
       "      <td>Georgia</td>\n",
       "      <td>9687653</td>\n",
       "      <td>6.0</td>\n",
       "    </tr>\n",
       "    <tr>\n",
       "      <th>10</th>\n",
       "      <td>Hawaii</td>\n",
       "      <td>1360301</td>\n",
       "      <td>1.8</td>\n",
       "    </tr>\n",
       "    <tr>\n",
       "      <th>11</th>\n",
       "      <td>Idaho</td>\n",
       "      <td>1567582</td>\n",
       "      <td>2.3</td>\n",
       "    </tr>\n",
       "    <tr>\n",
       "      <th>12</th>\n",
       "      <td>Illinois</td>\n",
       "      <td>12830632</td>\n",
       "      <td>5.5</td>\n",
       "    </tr>\n",
       "    <tr>\n",
       "      <th>13</th>\n",
       "      <td>Indiana</td>\n",
       "      <td>6483802</td>\n",
       "      <td>5.7</td>\n",
       "    </tr>\n",
       "    <tr>\n",
       "      <th>14</th>\n",
       "      <td>Iowa</td>\n",
       "      <td>3046355</td>\n",
       "      <td>1.9</td>\n",
       "    </tr>\n",
       "  </tbody>\n",
       "</table>\n",
       "</div>"
      ],
      "text/plain": [
       "          State  Population  Murder.Rate\n",
       "0       Alabama     4779736          5.7\n",
       "1        Alaska      710231          5.6\n",
       "2       Arizona     6392017          4.7\n",
       "3      Arkansas     2915918          5.6\n",
       "4    California    37253956          4.4\n",
       "5      Colorado     5029196          2.8\n",
       "6   Connecticut     3574097          2.4\n",
       "7      Delaware      897934          5.8\n",
       "8       Florida    18801310          5.2\n",
       "9       Georgia     9687653          6.0\n",
       "10       Hawaii     1360301          1.8\n",
       "11        Idaho     1567582          2.3\n",
       "12     Illinois    12830632          5.5\n",
       "13      Indiana     6483802          5.7\n",
       "14         Iowa     3046355          1.9"
      ]
     },
     "execution_count": 2,
     "metadata": {},
     "output_type": "execute_result"
    }
   ],
   "source": [
    "state"
   ]
  },
  {
   "cell_type": "markdown",
   "id": "66c2c95b-2944-4fc9-9d8b-4766092c4462",
   "metadata": {},
   "source": [
    "### 1. Calculate the standard deviation of the population values using **three methods**:\n",
    "\n",
    "* (a) Manually\n",
    "* (b) With NumPy’s built-in standard deviation function (sample standard deviation, `ddof=1`).\n",
    "* (c) Manually using the formula (no `.std()` or `np.std()`).\n",
    "\n",
    "\n"
   ]
  },
  {
   "attachments": {
    "b29c383e-2d05-4103-bf01-614c10b35ad3.png": {
     "image/png": "[encoded data removed]"
    }
   },
   "cell_type": "markdown",
   "id": "100fce68-a3bd-42fd-8608-9f93b07f036a",
   "metadata": {},
   "source": [
    "Here is the formula:\n",
    "\n",
    "![image.png](attachment:b29c383e-2d05-4103-bf01-614c10b35ad3.png)"
   ]
  },
  {
   "cell_type": "code",
   "execution_count": 3,
   "id": "ad6bcd6a-de8e-4c71-aaac-0b5e6ccd520b",
   "metadata": {},
   "outputs": [],
   "source": [
    "# Get n which is number of values or records\n",
    "n = state.shape[0]\n",
    "\n",
    "# Get the mean of the population (Check Quiz 1 to learn how to calculate mean)\n",
    "mean = state['Population'].mean()"
   ]
  },
  {
   "cell_type": "code",
   "execution_count": 4,
   "id": "a5ddc657-eda8-4687-bda2-3f539ff55af3",
   "metadata": {},
   "outputs": [
    {
     "name": "stdout",
     "output_type": "stream",
     "text": [
      "Manually calculated standard deviation: 9562908.124270894\n",
      "With NumPy’s built-in standard deviation function: 9562908.124270894\n",
      "With the formula 'no .std()': 9562908.124270894\n"
     ]
    }
   ],
   "source": [
    "# Import libraries that will help to provide math functions\n",
    "import math\n",
    "import numpy as np\n",
    "\n",
    "# Create variable to store the sum of (x - mean) squared:\n",
    "tot_variance_sum = 0\n",
    "\n",
    "# Create loop to go through every value (x)\n",
    "for i in range(n):\n",
    "    # print(state.iloc[i, 1])\n",
    "    x_i = state.iloc[i, 1]\n",
    "    x_m_squared = (x_i - mean) ** 2\n",
    "    tot_variance_sum += x_m_squared\n",
    "\n",
    "# Find variance:\n",
    "variance = tot_variance_sum / (n - 1)\n",
    "\n",
    "# Find standard deviation:\n",
    "st_dv = math.sqrt(variance)\n",
    "\n",
    "# Print out the results:\n",
    "print(f\"Manually calculated standard deviation: {st_dv}\")\n",
    "print(f\"With NumPy’s built-in standard deviation function: {np.std(state['Population'], ddof=1)}\")\n",
    "print(f\"With the formula 'no .std()': {state['Population'].std()}\")"
   ]
  },
  {
   "cell_type": "markdown",
   "id": "8eade3c2-725e-445e-a173-6c2de841d829",
   "metadata": {},
   "source": [
    "### 2. Mean Absolute Deviation (MAD)\n",
    "\n",
    "Calculate the **mean absolute deviation from the mean** for the population.\n"
   ]
  },
  {
   "attachments": {
    "1a505821-8041-43d5-a843-468f69e922aa.png": {
     "image/png": "[encoded data removed]"
    }
   },
   "cell_type": "markdown",
   "id": "8a7770bf-50cb-45c3-b166-5f44d56aa2e1",
   "metadata": {},
   "source": [
    "Here is the formula:\n",
    "\n",
    "![image.png](attachment:1a505821-8041-43d5-a843-468f69e922aa.png)"
   ]
  },
  {
   "cell_type": "code",
   "execution_count": 58,
   "id": "04cc1b55-a641-4265-8e9c-09c5e6b2976d",
   "metadata": {},
   "outputs": [
    {
     "name": "stdout",
     "output_type": "stream",
     "text": [
      "Manually calculated mean absolution deviation: 6375825.644444445\n"
     ]
    }
   ],
   "source": [
    "# Create variable to store sum for MAD\n",
    "tot_mad = 0\n",
    "\n",
    "# Loop through each Xi:\n",
    "for i in range(n):\n",
    "    x_i = state.iloc[i, 1]\n",
    "    x_m = x_i - mean\n",
    "\n",
    "    # Get absolute value:\n",
    "    if x_m < 0:\n",
    "        absolute_x_m = x_m * (-1)\n",
    "    else:\n",
    "        absolute_x_m = x_m\n",
    "\n",
    "    # Add to total:\n",
    "    tot_mad += absolute_x_m\n",
    "\n",
    "# Get mean absolution deviation\n",
    "mad = tot_mad / n\n",
    "\n",
    "# Print out the results:\n",
    "print(f\"Manually calculated mean absolution deviation: {mad}\")"
   ]
  },
  {
   "cell_type": "markdown",
   "id": "8f03080e-0302-48cf-bff7-22d64262baf6",
   "metadata": {},
   "source": [
    "### 3. Median Absolute Deviation (MAD from median)\n",
    "\n",
    "Compute the **median absolute deviation from the median** for the population values.\n"
   ]
  },
  {
   "attachments": {
    "b7c446c6-70a6-455e-bb3c-0c937c8b20a3.png": {
     "image/png": "[encoded data removed]"
    }
   },
   "cell_type": "markdown",
   "id": "29a0792f-d396-4d1f-b6d8-98632a4321be",
   "metadata": {},
   "source": [
    "Here is the formula:\n",
    "\n",
    "![image.png](attachment:b7c446c6-70a6-455e-bb3c-0c937c8b20a3.png)"
   ]
  },
  {
   "cell_type": "code",
   "execution_count": 10,
   "id": "0cbb7368-123a-4102-8761-7f12ae0c0006",
   "metadata": {},
   "outputs": [
    {
     "name": "stdout",
     "output_type": "stream",
     "text": [
      "Manually calculated median absolute deviation: 3212154.0\n",
      "Automatically calculated median absolute deviation: 3212154.0\n"
     ]
    }
   ],
   "source": [
    "# Import library\n",
    "import scipy\n",
    "\n",
    "# Get median (Check out Quiz 1 to figure out how to calculate median)\n",
    "median = state[\"Population\"].median()\n",
    "\n",
    "# Carry out absolute(x - median) on all rows to find the deviations:\n",
    "med_state = abs(state[\"Population\"] - median)\n",
    "\n",
    "# Find the median absolute deviation:\n",
    "median_abs_dev = med_state.median()\n",
    "\n",
    "# Print out the results:\n",
    "print(f\"Manually calculated median absolute deviation: {median_abs_dev}\")\n",
    "print(f\"Automatically calculated median absolute deviation: {scipy.stats.median_abs_deviation(state[\"Population\"])}\")"
   ]
  },
  {
   "cell_type": "markdown",
   "id": "d31c9dc8-5f32-45d0-9fe7-5004546cfdf7",
   "metadata": {},
   "source": [
    "### 4. Interquartile Range (IQR)\n",
    "\n",
    "Find the **interquartile range** (75th percentile − 25th percentile) of the murder rates."
   ]
  },
  {
   "cell_type": "markdown",
   "id": "a5a9f683-cf15-41f0-a5dd-3efe79d25330",
   "metadata": {},
   "source": [
    "Steps to calculate the interquartile range:\n",
    "- **Order the Data:** Arrange your dataset from the smallest to the largest value. \n",
    "- **Find the Median (Q2):** The median is the middle value of the sorted data. If you have an even number of data points, the median is the average of the two middle values. \n",
    "- **Find the Lower Quartile (Q1):** Q1 is the median of the lower half of the data (excluding the overall median). \n",
    "- **Find the Upper Quartile (Q3):** Q3 is the median of the upper half of the data (excluding the overall median). \n",
    "- **Calculate the IQR:** IQR = Q3 - Q1. "
   ]
  },
  {
   "cell_type": "code",
   "execution_count": 39,
   "id": "1bcd68b3-c09f-4d6d-a68f-a050866a505e",
   "metadata": {},
   "outputs": [
    {
     "name": "stdout",
     "output_type": "stream",
     "text": [
      "Manually calculated Interquartile Range Q3 - Q2 (9687653.0 - 1463941.5) = 8223711.5\n",
      "Automatically calculated Interquartile Range (IQR): 5843977.5\n"
     ]
    }
   ],
   "source": [
    "# Sort the population values\n",
    "state_sorted = state[\"Population\"].sort_values(ignore_index=True)\n",
    "\n",
    "# Since we have an odd number of data points (n=15), we will have our midpoint on the middle value.\n",
    "midpoint = n / 2\n",
    "\n",
    "# Remember to convert them to integer\n",
    "left_midpoint = int(midpoint - 1.5)\n",
    "right_midpoint = int(midpoint + 0.5)\n",
    "\n",
    "# Calculate Q1 and Q3\n",
    "Q1 = state_sorted[0:left_midpoint].median()\n",
    "Q3 = state_sorted[right_midpoint:].median()\n",
    "\n",
    "# Find Interquartile Range (IQR)\n",
    "IQR = Q3 - Q1\n",
    "\n",
    "# Print out the results:\n",
    "print(f\"Manually calculated Interquartile Range Q3 - Q2 ({Q3} - {Q1}) = {IQR}\")\n",
    "print(f\"Automatically calculated Interquartile Range (IQR): {scipy.stats.iqr(state_sorted)}\")\n"
   ]
  },
  {
   "cell_type": "markdown",
   "id": "628dcac0-0930-4f48-b544-8ef86e60cc6a",
   "metadata": {},
   "source": [
    "**NOTE:** The manually calculated IQR is different from the automatically calculated IQR because we used **median** to calculate 25th(Q1) and 75th(Q2) percentiles while scipy.stats uses **interpolation**."
   ]
  },
  {
   "cell_type": "markdown",
   "id": "3270cb76-11f1-4e52-a876-6c45c8851279",
   "metadata": {},
   "source": [
    "### 🔍 What Is Interpolation?\n",
    "\n",
    "**Interpolation** means estimating a value **between two known values**.\n",
    "\n",
    "In the context of percentiles, interpolation is used when the exact percentile (like the 25th or 75th) **does not fall exactly on a data point**, because the data set is too small or the percentile lands between two values.\n",
    "\n",
    "---\n",
    "\n",
    "### 🧪 Simple Example (With Interpolation)\n",
    "\n",
    "Suppose you have the sorted data:\n",
    "\n",
    "```python\n",
    "data = [1, 3, 5, 7]\n",
    "```\n",
    "\n",
    "There are 4 numbers.\n",
    "\n",
    "* The **25th percentile** would fall at **position**:\n",
    "\n",
    "  $$\n",
    "  p = 25\\% \\times (n - 1) = 0.25 \\times 3 = 0.75\n",
    "  $$\n",
    "\n",
    "  That means it lies **three-quarters of the way between the first and second element** (between 1 and 3).\n",
    "\n",
    "Using **linear interpolation**:\n",
    "\n",
    "$$\n",
    "\\text{25th percentile} = 1 + 0.75 \\times (3 - 1) = 1 + 0.75 \\times 2 = 1 + 1.5 = 2.5\n",
    "$$\n",
    "\n",
    "> ⚠️ Even though there is no \"2.5\" in the data, the 25th percentile is estimated to be **2.5**.\n",
    "\n",
    "---\n",
    "\n",
    "### 🔢 Compared to Classical Method\n",
    "\n",
    "In the **classical method**, you'd just look at the lower half of the data `[1, 3]` and say the median of that is `2.0` (or choose the middle value if it’s odd).\n",
    "\n",
    "> So **interpolation gives you more precise percentile estimates**—especially useful for **larger datasets** or **continuous variables**.\n",
    "\n",
    "---\n",
    "\n",
    "### 💡 Summary\n",
    "\n",
    "| Term           | Meaning                                                                   |\n",
    "| -------------- | ------------------------------------------------------------------------- |\n",
    "| Interpolation  | Estimating a value *between* two data points                              |\n",
    "| In percentiles | Used when the desired percentile index doesn’t exactly match a data point |\n",
    "\n"
   ]
  },
  {
   "cell_type": "markdown",
   "id": "fbac4927-635d-44e3-a8e0-1af509649318",
   "metadata": {},
   "source": [
    "### 5. Order Statistics\n",
    "\n",
    "What are the **minimum**, **25th percentile**, **median**, **75th percentile**, and **maximum** values of the population?\n"
   ]
  },
  {
   "cell_type": "code",
   "execution_count": 55,
   "id": "7e7df858-098a-4e58-89ae-8f86b5e09697",
   "metadata": {},
   "outputs": [
    {
     "data": {
      "text/html": [
       "<div>\n",
       "<style scoped>\n",
       "    .dataframe tbody tr th:only-of-type {\n",
       "        vertical-align: middle;\n",
       "    }\n",
       "\n",
       "    .dataframe tbody tr th {\n",
       "        vertical-align: top;\n",
       "    }\n",
       "\n",
       "    .dataframe thead th {\n",
       "        text-align: right;\n",
       "    }\n",
       "</style>\n",
       "<table border=\"1\" class=\"dataframe\">\n",
       "  <thead>\n",
       "    <tr style=\"text-align: right;\">\n",
       "      <th></th>\n",
       "      <th>Manually (with Median)</th>\n",
       "      <th>Automatically (with Interpolation)</th>\n",
       "    </tr>\n",
       "  </thead>\n",
       "  <tbody>\n",
       "    <tr>\n",
       "      <th>minimum</th>\n",
       "      <td>710231.0</td>\n",
       "      <td>710231.0</td>\n",
       "    </tr>\n",
       "    <tr>\n",
       "      <th>25th percentile</th>\n",
       "      <td>1463941.5</td>\n",
       "      <td>2241750.0</td>\n",
       "    </tr>\n",
       "    <tr>\n",
       "      <th>median</th>\n",
       "      <td>4779736.0</td>\n",
       "      <td>4779736.0</td>\n",
       "    </tr>\n",
       "    <tr>\n",
       "      <th>75th percentile</th>\n",
       "      <td>9687653.0</td>\n",
       "      <td>8085727.5</td>\n",
       "    </tr>\n",
       "    <tr>\n",
       "      <th>maximum</th>\n",
       "      <td>37253956.0</td>\n",
       "      <td>37253956.0</td>\n",
       "    </tr>\n",
       "  </tbody>\n",
       "</table>\n",
       "</div>"
      ],
      "text/plain": [
       "                 Manually (with Median)  Automatically (with Interpolation)\n",
       "minimum                        710231.0                            710231.0\n",
       "25th percentile               1463941.5                           2241750.0\n",
       "median                        4779736.0                           4779736.0\n",
       "75th percentile               9687653.0                           8085727.5\n",
       "maximum                      37253956.0                          37253956.0"
      ]
     },
     "execution_count": 55,
     "metadata": {},
     "output_type": "execute_result"
    }
   ],
   "source": [
    "manual_statistics = {\n",
    "    \"Manually (with Median)\": [state_sorted.min(), Q1, median, Q3, state_sorted.max()],\n",
    "    \"Automatically (with Interpolation)\": [state_sorted.min(), np.percentile(state_sorted, [25])[0], median, np.percentile(state_sorted, [75])[0], state_sorted.max()]\n",
    "}\n",
    "\n",
    "order_stat_df = pd.DataFrame(manual_statistics, index=[\"minimum\", \"25th percentile\", \"median\", \"75th percentile\", \"maximum\"])\n",
    "order_stat_df"
   ]
  },
  {
   "cell_type": "markdown",
   "id": "a96b540f-a380-4f79-ab8e-f3f08a2914f2",
   "metadata": {},
   "source": [
    "### 6. Outlier Sensitivity\n",
    "\n",
    "Compare the **standard deviation** and the **MAD (from the median)**. Based on their values, which one is more **robust** to outliers in this dataset? Explain in 2–3 sentences."
   ]
  },
  {
   "cell_type": "code",
   "execution_count": 57,
   "id": "4000c946-8b4b-4290-a83a-13ea6bc346c7",
   "metadata": {},
   "outputs": [
    {
     "name": "stdout",
     "output_type": "stream",
     "text": [
      "Standard deviation: 9562908.124270894 \n",
      "MAD (from the median): 3212154.0\n"
     ]
    }
   ],
   "source": [
    "print(f\"Standard deviation: {st_dv} \\nMAD (from the median): {median_abs_dev}\")"
   ]
  },
  {
   "cell_type": "markdown",
   "id": "a71422f3-03c7-48fc-b765-e6d9295a230a",
   "metadata": {},
   "source": [
    "**Answer:** The MAD is more robust is more robust to outliers. This is because of calculation of the variance where values are squared. Outliers are more sensitive to being squared."
   ]
  },
  {
   "cell_type": "markdown",
   "id": "30d90696-9595-47fb-9f8a-23872f99e2a0",
   "metadata": {},
   "source": [
    "### 7. Bonus (Conceptual)\n",
    "\n",
    "Why might a data scientist prefer using **interquartile range (IQR)** over **standard deviation** when analyzing salary data?\n"
   ]
  },
  {
   "cell_type": "markdown",
   "id": "b0ddaa51-088f-4093-abb7-a7e401f77513",
   "metadata": {},
   "source": [
    "**Answer:** They might prefer using IQR because it is less sensitive to outliers. This is due to picking only between the 25th and 75th percentiles. The outliers on the ends of the data point are ignored during this process."
   ]
  }
 ],
 "metadata": {
  "kernelspec": {
   "display_name": "Python 3 (ipykernel)",
   "language": "python",
   "name": "python3"
  },
  "language_info": {
   "codemirror_mode": {
    "name": "ipython",
    "version": 3
   },
   "file_extension": ".py",
   "mimetype": "text/x-python",
   "name": "python",
   "nbconvert_exporter": "python",
   "pygments_lexer": "ipython3",
   "version": "3.13.1"
  }
 },
 "nbformat": 4,
 "nbformat_minor": 5
}
