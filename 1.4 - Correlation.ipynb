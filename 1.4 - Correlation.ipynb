{
 "cells": [
  {
   "cell_type": "markdown",
   "id": "c6a1baa5-cd0d-459e-8df9-a950059af35b",
   "metadata": {
    "jp-MarkdownHeadingCollapsed": true
   },
   "source": [
    "## 📊 Dataset (Same as before, extended with some made-up variables for practice)\n",
    "\n",
    "```python\n",
    "import pandas as pd\n",
    "\n",
    "data = {\n",
    "    'State': ['Alabama', 'Alaska', 'Arizona', 'Arkansas', 'California',\n",
    "              'Colorado', 'Connecticut', 'Delaware', 'Florida', 'Georgia',\n",
    "              'Hawaii', 'Idaho', 'Illinois', 'Indiana', 'Iowa'],\n",
    "    'Region': ['South', 'West', 'West', 'South', 'West',\n",
    "               'West', 'Northeast', 'South', 'South', 'South',\n",
    "               'West', 'West', 'Midwest', 'Midwest', 'Midwest'],\n",
    "    'Population': [4779736, 710231, 6392017, 2915918, 37253956,\n",
    "                   5029196, 3574097, 897934, 18801310, 9687653,\n",
    "                   1360301, 1567582, 12830632, 6483802, 3046355],\n",
    "    'Murder.Rate': [5.7, 5.6, 4.7, 5.6, 4.4,\n",
    "                    2.8, 2.4, 5.8, 5.2, 6.0,\n",
    "                    1.8, 2.3, 5.5, 5.7, 1.9],\n",
    "    'Unemployment.Rate': [6.8, 7.6, 8.3, 7.9, 9.0,\n",
    "                          6.0, 5.1, 7.5, 10.2, 9.8,\n",
    "                          4.7, 5.4, 8.8, 7.1, 4.3]\n",
    "}\n",
    "\n",
    "state = pd.DataFrame(data)\n",
    "```\n",
    "\n",
    "---\n",
    "\n",
    "## 📘 Quiz: Correlation\n",
    "\n",
    "### **Q1. Pearson Correlation**\n",
    "\n",
    "Compute the **Pearson correlation coefficient** between:\n",
    "\n",
    "* Population and Murder.Rate\n",
    "* Unemployment.Rate and Murder.Rate\n",
    "\n",
    "Interpret the direction and strength of each correlation.\n",
    "\n",
    "\n",
    "\n",
    "### **Q2. Spearman Correlation**\n",
    "\n",
    "Compute the **Spearman rank correlation** between:\n",
    "\n",
    "* Population and Murder.Rate\n",
    "* Unemployment.Rate and Murder.Rate\n",
    "\n",
    "Explain the difference between Spearman and Pearson in your own words.\n",
    "\n",
    "\n",
    "\n",
    "### **Q3. Scatter Plot (Conceptual)**\n",
    "\n",
    "If a scatter plot shows a non-linear relationship between two variables, which correlation measure (Pearson or Spearman) is more appropriate, and why?\n",
    "\n",
    "\n",
    "\n",
    "### **Q4. Correlation Matrix**\n",
    "\n",
    "Compute the **correlation matrix** for the numeric variables: `Population`, `Murder.Rate`, and `Unemployment.Rate`. Show the matrix and identify the strongest and weakest pairwise relationships.\n",
    "\n",
    "\n",
    "\n",
    "### **Q5. Correlation vs. Causation**\n",
    "\n",
    "Give one real-world example where two variables may be **strongly correlated but not causally related**. Briefly explain what could be going on instead.\n",
    "\n"
   ]
  },
  {
   "cell_type": "markdown",
   "id": "091e740e-069c-4d0d-b913-cbc30da8e4f0",
   "metadata": {},
   "source": [
    "# Answers:"
   ]
  },
  {
   "cell_type": "markdown",
   "id": "d43b5a60-8e69-4966-bd4d-a6866973ce93",
   "metadata": {},
   "source": [
    "Import our data set:"
   ]
  },
  {
   "cell_type": "code",
   "execution_count": 1,
   "id": "1acebc0b-86e4-4d1d-9e09-25a1376bb38b",
   "metadata": {},
   "outputs": [],
   "source": [
    "import pandas as pd\n",
    "\n",
    "data = {\n",
    "    'State': ['Alabama', 'Alaska', 'Arizona', 'Arkansas', 'California',\n",
    "              'Colorado', 'Connecticut', 'Delaware', 'Florida', 'Georgia',\n",
    "              'Hawaii', 'Idaho', 'Illinois', 'Indiana', 'Iowa'],\n",
    "    'Region': ['South', 'West', 'West', 'South', 'West',\n",
    "               'West', 'Northeast', 'South', 'South', 'South',\n",
    "               'West', 'West', 'Midwest', 'Midwest', 'Midwest'],\n",
    "    'Population': [4779736, 710231, 6392017, 2915918, 37253956,\n",
    "                   5029196, 3574097, 897934, 18801310, 9687653,\n",
    "                   1360301, 1567582, 12830632, 6483802, 3046355],\n",
    "    'Murder.Rate': [5.7, 5.6, 4.7, 5.6, 4.4,\n",
    "                    2.8, 2.4, 5.8, 5.2, 6.0,\n",
    "                    1.8, 2.3, 5.5, 5.7, 1.9],\n",
    "    'Unemployment.Rate': [6.8, 7.6, 8.3, 7.9, 9.0,\n",
    "                          6.0, 5.1, 7.5, 10.2, 9.8,\n",
    "                          4.7, 5.4, 8.8, 7.1, 4.3]\n",
    "}\n",
    "\n",
    "state = pd.DataFrame(data)"
   ]
  },
  {
   "cell_type": "markdown",
   "id": "65288e56-4cd7-4dc1-916d-5940dd97a0bf",
   "metadata": {},
   "source": [
    "View the data set"
   ]
  },
  {
   "cell_type": "code",
   "execution_count": 2,
   "id": "b1fa6a74-9148-4c42-941d-0464acabed47",
   "metadata": {},
   "outputs": [
    {
     "data": {
      "text/html": [
       "<div>\n",
       "<style scoped>\n",
       "    .dataframe tbody tr th:only-of-type {\n",
       "        vertical-align: middle;\n",
       "    }\n",
       "\n",
       "    .dataframe tbody tr th {\n",
       "        vertical-align: top;\n",
       "    }\n",
       "\n",
       "    .dataframe thead th {\n",
       "        text-align: right;\n",
       "    }\n",
       "</style>\n",
       "<table border=\"1\" class=\"dataframe\">\n",
       "  <thead>\n",
       "    <tr style=\"text-align: right;\">\n",
       "      <th></th>\n",
       "      <th>State</th>\n",
       "      <th>Region</th>\n",
       "      <th>Population</th>\n",
       "      <th>Murder.Rate</th>\n",
       "      <th>Unemployment.Rate</th>\n",
       "    </tr>\n",
       "  </thead>\n",
       "  <tbody>\n",
       "    <tr>\n",
       "      <th>0</th>\n",
       "      <td>Alabama</td>\n",
       "      <td>South</td>\n",
       "      <td>4779736</td>\n",
       "      <td>5.7</td>\n",
       "      <td>6.8</td>\n",
       "    </tr>\n",
       "    <tr>\n",
       "      <th>1</th>\n",
       "      <td>Alaska</td>\n",
       "      <td>West</td>\n",
       "      <td>710231</td>\n",
       "      <td>5.6</td>\n",
       "      <td>7.6</td>\n",
       "    </tr>\n",
       "    <tr>\n",
       "      <th>2</th>\n",
       "      <td>Arizona</td>\n",
       "      <td>West</td>\n",
       "      <td>6392017</td>\n",
       "      <td>4.7</td>\n",
       "      <td>8.3</td>\n",
       "    </tr>\n",
       "    <tr>\n",
       "      <th>3</th>\n",
       "      <td>Arkansas</td>\n",
       "      <td>South</td>\n",
       "      <td>2915918</td>\n",
       "      <td>5.6</td>\n",
       "      <td>7.9</td>\n",
       "    </tr>\n",
       "    <tr>\n",
       "      <th>4</th>\n",
       "      <td>California</td>\n",
       "      <td>West</td>\n",
       "      <td>37253956</td>\n",
       "      <td>4.4</td>\n",
       "      <td>9.0</td>\n",
       "    </tr>\n",
       "    <tr>\n",
       "      <th>5</th>\n",
       "      <td>Colorado</td>\n",
       "      <td>West</td>\n",
       "      <td>5029196</td>\n",
       "      <td>2.8</td>\n",
       "      <td>6.0</td>\n",
       "    </tr>\n",
       "    <tr>\n",
       "      <th>6</th>\n",
       "      <td>Connecticut</td>\n",
       "      <td>Northeast</td>\n",
       "      <td>3574097</td>\n",
       "      <td>2.4</td>\n",
       "      <td>5.1</td>\n",
       "    </tr>\n",
       "    <tr>\n",
       "      <th>7</th>\n",
       "      <td>Delaware</td>\n",
       "      <td>South</td>\n",
       "      <td>897934</td>\n",
       "      <td>5.8</td>\n",
       "      <td>7.5</td>\n",
       "    </tr>\n",
       "    <tr>\n",
       "      <th>8</th>\n",
       "      <td>Florida</td>\n",
       "      <td>South</td>\n",
       "      <td>18801310</td>\n",
       "      <td>5.2</td>\n",
       "      <td>10.2</td>\n",
       "    </tr>\n",
       "    <tr>\n",
       "      <th>9</th>\n",
       "      <td>Georgia</td>\n",
       "      <td>South</td>\n",
       "      <td>9687653</td>\n",
       "      <td>6.0</td>\n",
       "      <td>9.8</td>\n",
       "    </tr>\n",
       "    <tr>\n",
       "      <th>10</th>\n",
       "      <td>Hawaii</td>\n",
       "      <td>West</td>\n",
       "      <td>1360301</td>\n",
       "      <td>1.8</td>\n",
       "      <td>4.7</td>\n",
       "    </tr>\n",
       "    <tr>\n",
       "      <th>11</th>\n",
       "      <td>Idaho</td>\n",
       "      <td>West</td>\n",
       "      <td>1567582</td>\n",
       "      <td>2.3</td>\n",
       "      <td>5.4</td>\n",
       "    </tr>\n",
       "    <tr>\n",
       "      <th>12</th>\n",
       "      <td>Illinois</td>\n",
       "      <td>Midwest</td>\n",
       "      <td>12830632</td>\n",
       "      <td>5.5</td>\n",
       "      <td>8.8</td>\n",
       "    </tr>\n",
       "    <tr>\n",
       "      <th>13</th>\n",
       "      <td>Indiana</td>\n",
       "      <td>Midwest</td>\n",
       "      <td>6483802</td>\n",
       "      <td>5.7</td>\n",
       "      <td>7.1</td>\n",
       "    </tr>\n",
       "    <tr>\n",
       "      <th>14</th>\n",
       "      <td>Iowa</td>\n",
       "      <td>Midwest</td>\n",
       "      <td>3046355</td>\n",
       "      <td>1.9</td>\n",
       "      <td>4.3</td>\n",
       "    </tr>\n",
       "  </tbody>\n",
       "</table>\n",
       "</div>"
      ],
      "text/plain": [
       "          State     Region  Population  Murder.Rate  Unemployment.Rate\n",
       "0       Alabama      South     4779736          5.7                6.8\n",
       "1        Alaska       West      710231          5.6                7.6\n",
       "2       Arizona       West     6392017          4.7                8.3\n",
       "3      Arkansas      South     2915918          5.6                7.9\n",
       "4    California       West    37253956          4.4                9.0\n",
       "5      Colorado       West     5029196          2.8                6.0\n",
       "6   Connecticut  Northeast     3574097          2.4                5.1\n",
       "7      Delaware      South      897934          5.8                7.5\n",
       "8       Florida      South    18801310          5.2               10.2\n",
       "9       Georgia      South     9687653          6.0                9.8\n",
       "10       Hawaii       West     1360301          1.8                4.7\n",
       "11        Idaho       West     1567582          2.3                5.4\n",
       "12     Illinois    Midwest    12830632          5.5                8.8\n",
       "13      Indiana    Midwest     6483802          5.7                7.1\n",
       "14         Iowa    Midwest     3046355          1.9                4.3"
      ]
     },
     "execution_count": 2,
     "metadata": {},
     "output_type": "execute_result"
    }
   ],
   "source": [
    "state"
   ]
  },
  {
   "cell_type": "markdown",
   "id": "43abab03-309a-42bf-b867-d3c8c88ed12b",
   "metadata": {},
   "source": [
    "### **Q1. Pearson Correlation**\n",
    "\n",
    "Compute the **Pearson correlation coefficient** between:\n",
    "\n",
    "* Population and Murder.Rate\n",
    "* Unemployment.Rate and Murder.Rate\n",
    "\n",
    "Interpret the direction and strength of each correlation.\n"
   ]
  },
  {
   "attachments": {
    "e9b02c22-9350-40a3-88fc-a35a3504577b.png": {
     "image/png": "[encoded data removed]"
    }
   },
   "cell_type": "markdown",
   "id": "04bee77a-0c76-483c-9582-7c726cfb2ed4",
   "metadata": {},
   "source": [
    "Formula:\n",
    "\n",
    "![image.png](attachment:e9b02c22-9350-40a3-88fc-a35a3504577b.png)"
   ]
  },
  {
   "cell_type": "markdown",
   "id": "1808401f-d273-4ab3-87f6-91572ff810b1",
   "metadata": {},
   "source": [
    "**a) Population and Murder.Rate:**"
   ]
  },
  {
   "cell_type": "code",
   "execution_count": 3,
   "id": "03e1be25-ea7f-4a6c-b046-1861c3ca2b13",
   "metadata": {},
   "outputs": [
    {
     "name": "stdout",
     "output_type": "stream",
     "text": [
      "Manually calculated correlation between Population and Murder.Rate: 0.20666531229062368\n",
      "Automatically calculated correlation between Population and Murder.Rate: PearsonRResult(statistic=np.float64(0.19288762480458213), pvalue=np.float64(0.49097886873981594))\n"
     ]
    }
   ],
   "source": [
    "# Import libraries\n",
    "import numpy as np\n",
    "import scipy.stats\n",
    "\n",
    "# get standard deviation of population (x) and murder rate (y)\n",
    "std_pop = np.std(state['Population'])\n",
    "std_murd = np.std(state['Murder.Rate'])\n",
    "\n",
    "# get mean of population (x) and murder rate (y)\n",
    "mean_pop = state['Population'].mean()\n",
    "mean_murd = state['Murder.Rate'].mean()\n",
    "\n",
    "# Get number of data points \"n\"\n",
    "n = state.shape[0]\n",
    "\n",
    "# Create empty variable to store sum of (xi - xm)(yi - ym)\n",
    "sum_a = 0\n",
    "\n",
    "# Loop through n data points and add them\n",
    "for i in range(n):\n",
    "    xi = state.iloc[i,2]\n",
    "    yi = state.iloc[i,3]\n",
    "\n",
    "    product = (xi - mean_pop) * (yi - mean_murd)  # This is the step of (xi - xm)(yi - ym)\n",
    "    sum_a += product\n",
    "\n",
    "# Now we can compute the correlation coefficient:\n",
    "r_a = sum_a / ((n - 1) * std_pop * std_murd)\n",
    "\n",
    "# print results\n",
    "print(f\"Manually calculated correlation between Population and Murder.Rate: {r_a}\")\n",
    "print(f\"Automatically calculated correlation between Population and Murder.Rate: {scipy.stats.pearsonr(state['Population'], state['Murder.Rate'])}\")"
   ]
  },
  {
   "cell_type": "markdown",
   "id": "796b534d-bb7e-4c0e-bf14-ea80f030ff97",
   "metadata": {},
   "source": [
    "**Observation:** It appears that there is a very slight positive correlation between population and murder rate (0.2) but it is not a large enough correlation to imply that a higher population would lead to a very high murder rate."
   ]
  },
  {
   "cell_type": "markdown",
   "id": "34a0f016-e083-465d-a91f-649710e9047f",
   "metadata": {},
   "source": [
    "**b) Unemployment.Rate and Murder.Rate:**"
   ]
  },
  {
   "cell_type": "code",
   "execution_count": 4,
   "id": "69f023f5-fb97-4adf-9efe-f80ae43edfe1",
   "metadata": {},
   "outputs": [
    {
     "name": "stdout",
     "output_type": "stream",
     "text": [
      "Manually calculated correlation between the Murder.Rate and the Unemployment.Rate: 0.8584173217242379\n",
      "Automatically calculated correlation between the Murder.Rate and the Unemployment.Rate: PearsonRResult(statistic=np.float64(0.8011895002759555), pvalue=np.float64(0.0003302670049237673))\n"
     ]
    }
   ],
   "source": [
    "# get standard deviation of the unemployment rate (y)\n",
    "std_unemp = np.std(state['Unemployment.Rate'])\n",
    "\n",
    "# get mean of the unemployment rate (y)\n",
    "mean_unemp = state['Unemployment.Rate'].mean()\n",
    "\n",
    "# Create empty variable to store sum of (xi - xm)(yi - ym)\n",
    "sum_b = 0\n",
    "\n",
    "# Loop through n data points and add them\n",
    "for i in range(n):\n",
    "    xi = state.iloc[i,3]\n",
    "    yi = state.iloc[i,4]\n",
    "\n",
    "    product = (xi - mean_murd) * (yi - mean_unemp)  # This is the step of (xi - xm)(yi - ym)\n",
    "    sum_b += product\n",
    "\n",
    "# Now we can compute the correlation coefficient:\n",
    "r_b = sum_b / ((n - 1) * std_murd * std_unemp)\n",
    "\n",
    "# print results\n",
    "print(f\"Manually calculated correlation between the Murder.Rate and the Unemployment.Rate: {r_b}\")\n",
    "print(f\"Automatically calculated correlation between the Murder.Rate and the Unemployment.Rate: {scipy.stats.pearsonr(state['Murder.Rate'], state['Unemployment.Rate'])}\")"
   ]
  },
  {
   "cell_type": "markdown",
   "id": "7d7e2251-016f-4bac-af62-4603cbde3112",
   "metadata": {},
   "source": [
    "**Observation:** It seems that the murder rate is positively correlated with the unemployment rate (0.8). This means that high unemployment may lead to higher rates of murder."
   ]
  },
  {
   "cell_type": "markdown",
   "id": "48fc9120-b387-4a52-86b0-81f393473e16",
   "metadata": {},
   "source": [
    "### **Q2. Spearman Correlation**\n",
    "\n",
    "Compute the **Spearman rank correlation** between:\n",
    "\n",
    "* Population and Murder.Rate\n",
    "* Unemployment.Rate and Murder.Rate\n",
    "\n",
    "Explain the difference between Spearman and Pearson in your own words.\n"
   ]
  },
  {
   "cell_type": "code",
   "execution_count": 5,
   "id": "ddd212e2-2bcc-4e7d-bbd2-fedef85c9946",
   "metadata": {},
   "outputs": [
    {
     "name": "stdout",
     "output_type": "stream",
     "text": [
      "Automatically calculated correlation between Population and Murder.Rate: SignificanceResult(statistic=np.float64(0.1341683721065912), pvalue=np.float64(0.6335637188020524))\n",
      "Automatically calculated correlation between the Murder.Rate and the Unemployment.Rate: SignificanceResult(statistic=np.float64(0.5724517209881224), pvalue=np.float64(0.025736469373542008))\n"
     ]
    }
   ],
   "source": [
    "# Print results\n",
    "print(f\"Automatically calculated correlation between Population and Murder.Rate: {scipy.stats.spearmanr(state['Population'], state['Murder.Rate'])}\")\n",
    "print(f\"Automatically calculated correlation between the Murder.Rate and the Unemployment.Rate: {scipy.stats.spearmanr(state['Murder.Rate'], state['Unemployment.Rate'])}\")"
   ]
  },
  {
   "cell_type": "markdown",
   "id": "4e118152-7833-415b-ba59-073b8318061b",
   "metadata": {},
   "source": [
    "**Difference between Spearman and Pearson:** Looking at the different results from using both, it seems that the Spearman rank correlation give a more **conservative** value. It appears to be more resilient to outliers.\n",
    " "
   ]
  },
  {
   "cell_type": "markdown",
   "id": "74cc9bd1-a278-4919-9275-082fe894cdf4",
   "metadata": {},
   "source": [
    "### **Q3. Scatter Plot (Conceptual)**\n",
    "\n",
    "If a scatter plot shows a non-linear relationship between two variables, which correlation measure (Pearson or Spearman) is more appropriate, and why?\n"
   ]
  },
  {
   "cell_type": "markdown",
   "id": "f16ce1b1-9139-403a-89ce-49fdb2d911a9",
   "metadata": {},
   "source": [
    "**Answer:** The Spearman correlation is mainly used with variables that don't have a linear relationship (usually those that are **Monotonic** with each other). Usually with small population samples that would have a Pierson correlation that is all over the place.\n",
    "\n",
    "This is because non-linear variables don't correlate in a straight line which the Pierson correlation measures specifically for. There may be points at which the line flattens out. "
   ]
  },
  {
   "cell_type": "markdown",
   "id": "aaa16156-10ed-4e6e-8182-7586853b7b90",
   "metadata": {},
   "source": [
    "### **Q4. Correlation Matrix**\n",
    "\n",
    "Compute the **correlation matrix** for the numeric variables: `Population`, `Murder.Rate`, and `Unemployment.Rate`. Show the matrix and identify the strongest and weakest pairwise relationships.\n"
   ]
  },
  {
   "cell_type": "code",
   "execution_count": 13,
   "id": "bd88f8ff-8844-4977-b33e-c4ae6b397383",
   "metadata": {},
   "outputs": [
    {
     "data": {
      "text/html": [
       "<div>\n",
       "<style scoped>\n",
       "    .dataframe tbody tr th:only-of-type {\n",
       "        vertical-align: middle;\n",
       "    }\n",
       "\n",
       "    .dataframe tbody tr th {\n",
       "        vertical-align: top;\n",
       "    }\n",
       "\n",
       "    .dataframe thead th {\n",
       "        text-align: right;\n",
       "    }\n",
       "</style>\n",
       "<table border=\"1\" class=\"dataframe\">\n",
       "  <thead>\n",
       "    <tr style=\"text-align: right;\">\n",
       "      <th></th>\n",
       "      <th>Population</th>\n",
       "      <th>Murder.Rate</th>\n",
       "      <th>Unemployment.Rate</th>\n",
       "    </tr>\n",
       "  </thead>\n",
       "  <tbody>\n",
       "    <tr>\n",
       "      <th>Population</th>\n",
       "      <td>1.000000</td>\n",
       "      <td>0.192888</td>\n",
       "      <td>0.58366</td>\n",
       "    </tr>\n",
       "    <tr>\n",
       "      <th>Murder.Rate</th>\n",
       "      <td>0.192888</td>\n",
       "      <td>1.000000</td>\n",
       "      <td>0.80119</td>\n",
       "    </tr>\n",
       "    <tr>\n",
       "      <th>Unemployment.Rate</th>\n",
       "      <td>0.583660</td>\n",
       "      <td>0.801190</td>\n",
       "      <td>1.00000</td>\n",
       "    </tr>\n",
       "  </tbody>\n",
       "</table>\n",
       "</div>"
      ],
      "text/plain": [
       "                   Population  Murder.Rate  Unemployment.Rate\n",
       "Population           1.000000     0.192888            0.58366\n",
       "Murder.Rate          0.192888     1.000000            0.80119\n",
       "Unemployment.Rate    0.583660     0.801190            1.00000"
      ]
     },
     "execution_count": 13,
     "metadata": {},
     "output_type": "execute_result"
    }
   ],
   "source": [
    "correlation_matrix = state[['Population', 'Murder.Rate', 'Unemployment.Rate']].corr(method='pearson') # You can specify 'pearson' (default), 'kendall', or 'spearman'\n",
    "correlation_matrix"
   ]
  },
  {
   "cell_type": "markdown",
   "id": "74084e6d-e829-45d6-aeea-2a225fb5cbba",
   "metadata": {},
   "source": [
    "**Observation:** The Murder and Unemployment rates have the **strongest** pairwise relationship while population and murder rate have the **weakest** pairwise relationship."
   ]
  },
  {
   "cell_type": "markdown",
   "id": "75620e02-f91d-4847-9fc8-836e7607d508",
   "metadata": {},
   "source": [
    "### **Q5. Correlation vs. Causation**\n",
    "\n",
    "Give one real-world example where two variables may be **strongly correlated but not causally related**. Briefly explain what could be going on instead.\n"
   ]
  },
  {
   "cell_type": "markdown",
   "id": "e080f588-195f-4202-a329-2644c30a189e",
   "metadata": {},
   "source": [
    "**Answer:** Ice-cream sales and shark attacks are correlated during the summer but they are not casually related. There is actually a confounding variable that causes both of them: an increasing water temperature. \n",
    "\n",
    "This happens when there is a third variable that influences both the dependent and independent variable making it look as if there is a direct causal relationship."
   ]
  }
 ],
 "metadata": {
  "kernelspec": {
   "display_name": "Python 3 (ipykernel)",
   "language": "python",
   "name": "python3"
  },
  "language_info": {
   "codemirror_mode": {
    "name": "ipython",
    "version": 3
   },
   "file_extension": ".py",
   "mimetype": "text/x-python",
   "name": "python",
   "nbconvert_exporter": "python",
   "pygments_lexer": "ipython3",
   "version": "3.13.1"
  }
 },
 "nbformat": 4,
 "nbformat_minor": 5
}
