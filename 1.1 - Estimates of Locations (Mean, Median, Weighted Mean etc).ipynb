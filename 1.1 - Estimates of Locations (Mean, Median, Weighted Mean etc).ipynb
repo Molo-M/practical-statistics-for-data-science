{
 "cells": [
  {
   "cell_type": "markdown",
   "id": "7fc5fcc0-3693-4735-ad5c-ad218a2c2b88",
   "metadata": {},
   "source": [
    "# Assignment 1: Estimates of Location\n",
    "\n",
    "by: [Molo Munyansanga](https://github.com/Molo-M)"
   ]
  },
  {
   "cell_type": "markdown",
   "id": "64702c33-b886-4886-a835-7bd085e9a930",
   "metadata": {},
   "source": [
    "Use the following dataset to answer the given questions"
   ]
  },
  {
   "cell_type": "code",
   "execution_count": 1,
   "id": "56cf0cb1-1921-42b3-b35c-10ef1419eae9",
   "metadata": {},
   "outputs": [],
   "source": [
    "import pandas as pd\n",
    "\n",
    "data = {\n",
    "    'State': ['Alabama', 'Alaska', 'Arizona', 'Arkansas', 'California',\n",
    "              'Colorado', 'Connecticut', 'Delaware', 'Florida', 'Georgia',\n",
    "              'Hawaii', 'Idaho', 'Illinois', 'Indiana', 'Iowa'],\n",
    "    'Population': [4779736, 710231, 6392017, 2915918, 37253956,\n",
    "                   5029196, 3574097, 897934, 18801310, 9687653,\n",
    "                   1360301, 1567582, 12830632, 6483802, 3046355],\n",
    "    'Murder.Rate': [5.7, 5.6, 4.7, 5.6, 4.4,\n",
    "                    2.8, 2.4, 5.8, 5.2, 6.0,\n",
    "                    1.8, 2.3, 5.5, 5.7, 1.9]\n",
    "}\n",
    "\n",
    "state = pd.DataFrame(data)\n"
   ]
  },
  {
   "cell_type": "markdown",
   "id": "9df1e1a7-1da5-46f3-88b8-fa56f5d866bd",
   "metadata": {
    "jp-MarkdownHeadingCollapsed": true
   },
   "source": [
    "## 📘 Questions\n",
    "\n",
    "### 1. **Basic Mean**\n",
    "\n",
    "What is the mean population of the 15 states?\n",
    "\n",
    "### 2. **Trimmed Mean**\n",
    "\n",
    "What is the 10% trimmed mean of the population?\n",
    "\n",
    "### 3. **Median**\n",
    "\n",
    "What is the median population?\n",
    "\n",
    "### 4. **Comparing Measures**\n",
    "\n",
    "Arrange the three estimates of location from highest to lowest: mean, median, trimmed mean. Why do you think they are in that order?\n",
    "\n",
    "### 5. **Weighted Mean**\n",
    "\n",
    "What is the **population-weighted mean murder rate**?\n",
    "\n",
    "### 6. **Weighted Median (optional)**\n",
    "\n",
    "What is the **population-weighted median murder rate**?\n",
    "\n",
    "### 7. **Robustness**\n",
    "\n",
    "Which of the following statistics is **most robust to outliers** in the population: mean, trimmed mean, or median? Justify your answer based on your results."
   ]
  },
  {
   "cell_type": "markdown",
   "id": "3a9ed960-e387-449b-866e-74969ecf7707",
   "metadata": {},
   "source": [
    "# Answers:"
   ]
  },
  {
   "cell_type": "code",
   "execution_count": 2,
   "id": "88e05112-d266-4b72-89bb-8760859d4f53",
   "metadata": {},
   "outputs": [
    {
     "data": {
      "text/html": [
       "<div>\n",
       "<style scoped>\n",
       "    .dataframe tbody tr th:only-of-type {\n",
       "        vertical-align: middle;\n",
       "    }\n",
       "\n",
       "    .dataframe tbody tr th {\n",
       "        vertical-align: top;\n",
       "    }\n",
       "\n",
       "    .dataframe thead th {\n",
       "        text-align: right;\n",
       "    }\n",
       "</style>\n",
       "<table border=\"1\" class=\"dataframe\">\n",
       "  <thead>\n",
       "    <tr style=\"text-align: right;\">\n",
       "      <th></th>\n",
       "      <th>State</th>\n",
       "      <th>Population</th>\n",
       "      <th>Murder.Rate</th>\n",
       "    </tr>\n",
       "  </thead>\n",
       "  <tbody>\n",
       "    <tr>\n",
       "      <th>0</th>\n",
       "      <td>Alabama</td>\n",
       "      <td>4779736</td>\n",
       "      <td>5.7</td>\n",
       "    </tr>\n",
       "    <tr>\n",
       "      <th>1</th>\n",
       "      <td>Alaska</td>\n",
       "      <td>710231</td>\n",
       "      <td>5.6</td>\n",
       "    </tr>\n",
       "    <tr>\n",
       "      <th>2</th>\n",
       "      <td>Arizona</td>\n",
       "      <td>6392017</td>\n",
       "      <td>4.7</td>\n",
       "    </tr>\n",
       "    <tr>\n",
       "      <th>3</th>\n",
       "      <td>Arkansas</td>\n",
       "      <td>2915918</td>\n",
       "      <td>5.6</td>\n",
       "    </tr>\n",
       "    <tr>\n",
       "      <th>4</th>\n",
       "      <td>California</td>\n",
       "      <td>37253956</td>\n",
       "      <td>4.4</td>\n",
       "    </tr>\n",
       "    <tr>\n",
       "      <th>5</th>\n",
       "      <td>Colorado</td>\n",
       "      <td>5029196</td>\n",
       "      <td>2.8</td>\n",
       "    </tr>\n",
       "    <tr>\n",
       "      <th>6</th>\n",
       "      <td>Connecticut</td>\n",
       "      <td>3574097</td>\n",
       "      <td>2.4</td>\n",
       "    </tr>\n",
       "    <tr>\n",
       "      <th>7</th>\n",
       "      <td>Delaware</td>\n",
       "      <td>897934</td>\n",
       "      <td>5.8</td>\n",
       "    </tr>\n",
       "    <tr>\n",
       "      <th>8</th>\n",
       "      <td>Florida</td>\n",
       "      <td>18801310</td>\n",
       "      <td>5.2</td>\n",
       "    </tr>\n",
       "    <tr>\n",
       "      <th>9</th>\n",
       "      <td>Georgia</td>\n",
       "      <td>9687653</td>\n",
       "      <td>6.0</td>\n",
       "    </tr>\n",
       "    <tr>\n",
       "      <th>10</th>\n",
       "      <td>Hawaii</td>\n",
       "      <td>1360301</td>\n",
       "      <td>1.8</td>\n",
       "    </tr>\n",
       "    <tr>\n",
       "      <th>11</th>\n",
       "      <td>Idaho</td>\n",
       "      <td>1567582</td>\n",
       "      <td>2.3</td>\n",
       "    </tr>\n",
       "    <tr>\n",
       "      <th>12</th>\n",
       "      <td>Illinois</td>\n",
       "      <td>12830632</td>\n",
       "      <td>5.5</td>\n",
       "    </tr>\n",
       "    <tr>\n",
       "      <th>13</th>\n",
       "      <td>Indiana</td>\n",
       "      <td>6483802</td>\n",
       "      <td>5.7</td>\n",
       "    </tr>\n",
       "    <tr>\n",
       "      <th>14</th>\n",
       "      <td>Iowa</td>\n",
       "      <td>3046355</td>\n",
       "      <td>1.9</td>\n",
       "    </tr>\n",
       "  </tbody>\n",
       "</table>\n",
       "</div>"
      ],
      "text/plain": [
       "          State  Population  Murder.Rate\n",
       "0       Alabama     4779736          5.7\n",
       "1        Alaska      710231          5.6\n",
       "2       Arizona     6392017          4.7\n",
       "3      Arkansas     2915918          5.6\n",
       "4    California    37253956          4.4\n",
       "5      Colorado     5029196          2.8\n",
       "6   Connecticut     3574097          2.4\n",
       "7      Delaware      897934          5.8\n",
       "8       Florida    18801310          5.2\n",
       "9       Georgia     9687653          6.0\n",
       "10       Hawaii     1360301          1.8\n",
       "11        Idaho     1567582          2.3\n",
       "12     Illinois    12830632          5.5\n",
       "13      Indiana     6483802          5.7\n",
       "14         Iowa     3046355          1.9"
      ]
     },
     "execution_count": 2,
     "metadata": {},
     "output_type": "execute_result"
    }
   ],
   "source": [
    "state"
   ]
  },
  {
   "cell_type": "markdown",
   "id": "60cba3c4-c5b4-4052-90f1-073e87704bfe",
   "metadata": {},
   "source": [
    "Some useful information we will use throughout this assignement"
   ]
  },
  {
   "cell_type": "code",
   "execution_count": 3,
   "id": "58f4167e-26b0-42a2-816b-fe2b08ccc362",
   "metadata": {},
   "outputs": [],
   "source": [
    "# How to select data point from dataframe: iloc[rows, columns]\n",
    "\n",
    "# How to get dataframe dimensions: .shape\n",
    "\n",
    "# Get our n\n",
    "n = state.shape[0]\n"
   ]
  },
  {
   "cell_type": "markdown",
   "id": "2d5003aa-1cfe-4b04-82f5-3ab8e264647d",
   "metadata": {},
   "source": [
    "## Population:\n",
    "\n",
    "We will first carry out the calculations for the population as described in the assignment"
   ]
  },
  {
   "attachments": {
    "29b2d037-0da8-4a60-b794-a3caefb7f913.png": {
     "image/png": "[encoded data removed]"
    }
   },
   "cell_type": "markdown",
   "id": "749d727d-cd94-4388-8524-8dab3f72e942",
   "metadata": {},
   "source": [
    "### 1) Mean:\n",
    "\n",
    "This is the formula for calculating mean:\n",
    "\n",
    "![image.png](attachment:29b2d037-0da8-4a60-b794-a3caefb7f913.png)"
   ]
  },
  {
   "cell_type": "code",
   "execution_count": 4,
   "id": "400a02e6-2507-457e-853c-3db5cff565e1",
   "metadata": {},
   "outputs": [
    {
     "name": "stdout",
     "output_type": "stream",
     "text": [
      "Manually calculated mean: 7688714.666666667\n",
      "Automatically calculated mean: 7688714.666666667\n"
     ]
    }
   ],
   "source": [
    "# create variable to store total\n",
    "total_x = 0\n",
    "\n",
    "# create loop to add all the values in the \"Population\" column\n",
    "for i in range(n):\n",
    "    x_i = state.iloc[i, 1]\n",
    "    total_x += x_i\n",
    "\n",
    "\n",
    "# calculate final mean:\n",
    "mean = total_x / n\n",
    "\n",
    "# print results:\n",
    "print(f\"Manually calculated mean: {mean}\")\n",
    "print(f\"Automatically calculated mean: {state[\"Population\"].mean()}\")\n"
   ]
  },
  {
   "attachments": {
    "9401a4d0-3002-49ba-bfb8-ed2495511392.png": {
     "image/png": "[encoded data removed]"
    }
   },
   "cell_type": "markdown",
   "id": "bb5db8aa-7af6-4e23-a9e5-ddc72ca991f8",
   "metadata": {},
   "source": [
    "### 2) Trimmed Mean:\n",
    "\n",
    "This is the formula for calculating the trimmed mean:\n",
    "\n",
    "![image.png](attachment:9401a4d0-3002-49ba-bfb8-ed2495511392.png)"
   ]
  },
  {
   "cell_type": "code",
   "execution_count": 5,
   "id": "b55fdd84-6281-4d2d-a869-c414ecec3b4d",
   "metadata": {},
   "outputs": [
    {
     "name": "stdout",
     "output_type": "stream",
     "text": [
      "The exact value of p calculated: 1.5\n",
      "Manually calculated trimmed mean: 5242480.818181818\n",
      "Automatically calculated trimmed mean: 5951271.769230769\n"
     ]
    }
   ],
   "source": [
    "# import library\n",
    "import scipy\n",
    "\n",
    "# Create variable to store trimmed total:\n",
    "trim_total = 0\n",
    "\n",
    "# Assign our \"p\" which is 10%\n",
    "percentage = 10\n",
    "p = n / percentage\n",
    "print(f\"The exact value of p calculated: {p}\")\n",
    "p = round(p) # \"round\" ensures it is rounded off to the nearest whole integer\n",
    "\n",
    "# Sort data\n",
    "state_sorted = state.sort_values(by=\"Population\")\n",
    "\n",
    "# Create loop to iterate from \"i = p + 1\" to \"n - p\"\n",
    "# NOTE: In the loop we started from position \"p\" instead of \"p+1\" because the index usually starts from 0 instead of 1.\n",
    "start = p\n",
    "end = (n - p) \n",
    "for i in range(start, end):\n",
    "    # print(state.iloc[i, 1], i)\n",
    "    x_i = state_sorted.iloc[i, 1]\n",
    "    trim_total += x_i\n",
    "\n",
    "trim_mean = trim_total / (n - (2 * p))\n",
    "\n",
    "# print results:\n",
    "print(f\"Manually calculated trimmed mean: {trim_mean}\")\n",
    "print(f\"Automatically calculated trimmed mean: {scipy.stats.trim_mean(state[\"Population\"], 0.10)}\")"
   ]
  },
  {
   "cell_type": "markdown",
   "id": "37e32e42-12a8-4f08-84bb-57644327e2f8",
   "metadata": {},
   "source": [
    "**Observation:** It seems that the difference in results is due to the value of **p** that was used. We rounded of \"1.5 to 2\", while the scipy library usually rounds of to the lowest integer. Therefore, it was \"1.5 to 1\"."
   ]
  },
  {
   "cell_type": "markdown",
   "id": "c945b2ef-d18c-4070-9560-184ea1f86e35",
   "metadata": {},
   "source": [
    "### 3. Median\n",
    "What is the median population?\n"
   ]
  },
  {
   "cell_type": "code",
   "execution_count": 24,
   "id": "48d8e62c-6ddc-4d93-9542-eeddde06c103",
   "metadata": {},
   "outputs": [
    {
     "data": {
      "text/html": [
       "<div>\n",
       "<style scoped>\n",
       "    .dataframe tbody tr th:only-of-type {\n",
       "        vertical-align: middle;\n",
       "    }\n",
       "\n",
       "    .dataframe tbody tr th {\n",
       "        vertical-align: top;\n",
       "    }\n",
       "\n",
       "    .dataframe thead th {\n",
       "        text-align: right;\n",
       "    }\n",
       "</style>\n",
       "<table border=\"1\" class=\"dataframe\">\n",
       "  <thead>\n",
       "    <tr style=\"text-align: right;\">\n",
       "      <th></th>\n",
       "      <th>State</th>\n",
       "      <th>Population</th>\n",
       "      <th>Murder.Rate</th>\n",
       "    </tr>\n",
       "  </thead>\n",
       "  <tbody>\n",
       "    <tr>\n",
       "      <th>1</th>\n",
       "      <td>Alaska</td>\n",
       "      <td>710231</td>\n",
       "      <td>5.6</td>\n",
       "    </tr>\n",
       "    <tr>\n",
       "      <th>7</th>\n",
       "      <td>Delaware</td>\n",
       "      <td>897934</td>\n",
       "      <td>5.8</td>\n",
       "    </tr>\n",
       "    <tr>\n",
       "      <th>10</th>\n",
       "      <td>Hawaii</td>\n",
       "      <td>1360301</td>\n",
       "      <td>1.8</td>\n",
       "    </tr>\n",
       "    <tr>\n",
       "      <th>11</th>\n",
       "      <td>Idaho</td>\n",
       "      <td>1567582</td>\n",
       "      <td>2.3</td>\n",
       "    </tr>\n",
       "    <tr>\n",
       "      <th>3</th>\n",
       "      <td>Arkansas</td>\n",
       "      <td>2915918</td>\n",
       "      <td>5.6</td>\n",
       "    </tr>\n",
       "    <tr>\n",
       "      <th>14</th>\n",
       "      <td>Iowa</td>\n",
       "      <td>3046355</td>\n",
       "      <td>1.9</td>\n",
       "    </tr>\n",
       "    <tr>\n",
       "      <th>6</th>\n",
       "      <td>Connecticut</td>\n",
       "      <td>3574097</td>\n",
       "      <td>2.4</td>\n",
       "    </tr>\n",
       "    <tr>\n",
       "      <th>0</th>\n",
       "      <td>Alabama</td>\n",
       "      <td>4779736</td>\n",
       "      <td>5.7</td>\n",
       "    </tr>\n",
       "    <tr>\n",
       "      <th>5</th>\n",
       "      <td>Colorado</td>\n",
       "      <td>5029196</td>\n",
       "      <td>2.8</td>\n",
       "    </tr>\n",
       "    <tr>\n",
       "      <th>2</th>\n",
       "      <td>Arizona</td>\n",
       "      <td>6392017</td>\n",
       "      <td>4.7</td>\n",
       "    </tr>\n",
       "    <tr>\n",
       "      <th>13</th>\n",
       "      <td>Indiana</td>\n",
       "      <td>6483802</td>\n",
       "      <td>5.7</td>\n",
       "    </tr>\n",
       "    <tr>\n",
       "      <th>9</th>\n",
       "      <td>Georgia</td>\n",
       "      <td>9687653</td>\n",
       "      <td>6.0</td>\n",
       "    </tr>\n",
       "    <tr>\n",
       "      <th>12</th>\n",
       "      <td>Illinois</td>\n",
       "      <td>12830632</td>\n",
       "      <td>5.5</td>\n",
       "    </tr>\n",
       "    <tr>\n",
       "      <th>8</th>\n",
       "      <td>Florida</td>\n",
       "      <td>18801310</td>\n",
       "      <td>5.2</td>\n",
       "    </tr>\n",
       "    <tr>\n",
       "      <th>4</th>\n",
       "      <td>California</td>\n",
       "      <td>37253956</td>\n",
       "      <td>4.4</td>\n",
       "    </tr>\n",
       "  </tbody>\n",
       "</table>\n",
       "</div>"
      ],
      "text/plain": [
       "          State  Population  Murder.Rate\n",
       "1        Alaska      710231          5.6\n",
       "7      Delaware      897934          5.8\n",
       "10       Hawaii     1360301          1.8\n",
       "11        Idaho     1567582          2.3\n",
       "3      Arkansas     2915918          5.6\n",
       "14         Iowa     3046355          1.9\n",
       "6   Connecticut     3574097          2.4\n",
       "0       Alabama     4779736          5.7\n",
       "5      Colorado     5029196          2.8\n",
       "2       Arizona     6392017          4.7\n",
       "13      Indiana     6483802          5.7\n",
       "9       Georgia     9687653          6.0\n",
       "12     Illinois    12830632          5.5\n",
       "8       Florida    18801310          5.2\n",
       "4    California    37253956          4.4"
      ]
     },
     "execution_count": 24,
     "metadata": {},
     "output_type": "execute_result"
    }
   ],
   "source": [
    "state_sorted"
   ]
  },
  {
   "cell_type": "code",
   "execution_count": 31,
   "id": "25c6b657-3c6e-4d68-afdc-88f9060d213f",
   "metadata": {},
   "outputs": [
    {
     "name": "stdout",
     "output_type": "stream",
     "text": [
      "Manually calculated median: 4779736\n",
      "Automatically calculated median: 4779736.0\n"
     ]
    }
   ],
   "source": [
    "# if the number of values (n) are even:\n",
    "if n % 2 == 0:\n",
    "    # Calculate the midpoints\n",
    "    midpoint = int(n / 2)\n",
    "    left_midpoint = state_sorted.iloc[(midpoints - 1), 1]\n",
    "    right_midpoint = state_sorted.iloc[midpoint, 1]\n",
    "\n",
    "    median = (left_midpoint + right_midpoint) / 2\n",
    "# if they are odd instead:\n",
    "else:\n",
    "    midpoint = int((n / 2) + 0.5) - 1 # remember to remove the position by 1 since the positions start from 0 instead of 1\n",
    "\n",
    "    median = state_sorted.iloc[midpoint, 1]  # don't forget to use \"state_sorted\" as the values here have been sorted in ascending order\n",
    "\n",
    "# print results:\n",
    "print(f\"Manually calculated median: {median}\")\n",
    "print(f\"Automatically calculated median: {state[\"Population\"].median()}\")"
   ]
  },
  {
   "cell_type": "markdown",
   "id": "858970e2-55ad-496d-975b-78d788918402",
   "metadata": {},
   "source": [
    "### 4. Comparing Measures\n",
    "Arrange the three estimates of location from highest to lowest: mean, median, trimmed mean. Why do you think they are in that order?"
   ]
  },
  {
   "cell_type": "markdown",
   "id": "d664e0bf-3f0d-463a-bb65-1749a6383e1f",
   "metadata": {},
   "source": [
    "First arrange the results in a dataframe:"
   ]
  },
  {
   "cell_type": "code",
   "execution_count": 57,
   "id": "e94caf8c-2379-4359-8afd-c71e9a33bccf",
   "metadata": {},
   "outputs": [
    {
     "data": {
      "text/html": [
       "<div>\n",
       "<style scoped>\n",
       "    .dataframe tbody tr th:only-of-type {\n",
       "        vertical-align: middle;\n",
       "    }\n",
       "\n",
       "    .dataframe tbody tr th {\n",
       "        vertical-align: top;\n",
       "    }\n",
       "\n",
       "    .dataframe thead th {\n",
       "        text-align: right;\n",
       "    }\n",
       "</style>\n",
       "<table border=\"1\" class=\"dataframe\">\n",
       "  <thead>\n",
       "    <tr style=\"text-align: right;\">\n",
       "      <th></th>\n",
       "      <th>Value</th>\n",
       "    </tr>\n",
       "  </thead>\n",
       "  <tbody>\n",
       "    <tr>\n",
       "      <th>mean</th>\n",
       "      <td>7688714.67</td>\n",
       "    </tr>\n",
       "    <tr>\n",
       "      <th>median</th>\n",
       "      <td>4779736.00</td>\n",
       "    </tr>\n",
       "    <tr>\n",
       "      <th>trimmed mean</th>\n",
       "      <td>5242480.82</td>\n",
       "    </tr>\n",
       "  </tbody>\n",
       "</table>\n",
       "</div>"
      ],
      "text/plain": [
       "                   Value\n",
       "mean          7688714.67\n",
       "median        4779736.00\n",
       "trimmed mean  5242480.82"
      ]
     },
     "execution_count": 57,
     "metadata": {},
     "output_type": "execute_result"
    }
   ],
   "source": [
    "estimates = {\n",
    "    'Value' : [round(mean, 2), median, round(trim_mean, 2)]\n",
    "}\n",
    "\n",
    "est_df = pd.DataFrame(estimates, index=['mean', 'median', 'trimmed mean'])\n",
    "est_df"
   ]
  },
  {
   "cell_type": "markdown",
   "id": "05a9af23-c2b9-4e31-8c2d-912e24cbc2be",
   "metadata": {},
   "source": [
    "Sort the results in descending order (highest to lowest):"
   ]
  },
  {
   "cell_type": "code",
   "execution_count": 65,
   "id": "41538d49-6058-4fbe-8338-fb6996a13158",
   "metadata": {},
   "outputs": [
    {
     "data": {
      "text/html": [
       "<div>\n",
       "<style scoped>\n",
       "    .dataframe tbody tr th:only-of-type {\n",
       "        vertical-align: middle;\n",
       "    }\n",
       "\n",
       "    .dataframe tbody tr th {\n",
       "        vertical-align: top;\n",
       "    }\n",
       "\n",
       "    .dataframe thead th {\n",
       "        text-align: right;\n",
       "    }\n",
       "</style>\n",
       "<table border=\"1\" class=\"dataframe\">\n",
       "  <thead>\n",
       "    <tr style=\"text-align: right;\">\n",
       "      <th></th>\n",
       "      <th>Value</th>\n",
       "    </tr>\n",
       "  </thead>\n",
       "  <tbody>\n",
       "    <tr>\n",
       "      <th>mean</th>\n",
       "      <td>7688714.67</td>\n",
       "    </tr>\n",
       "    <tr>\n",
       "      <th>trimmed mean</th>\n",
       "      <td>5242480.82</td>\n",
       "    </tr>\n",
       "    <tr>\n",
       "      <th>median</th>\n",
       "      <td>4779736.00</td>\n",
       "    </tr>\n",
       "  </tbody>\n",
       "</table>\n",
       "</div>"
      ],
      "text/plain": [
       "                   Value\n",
       "mean          7688714.67\n",
       "trimmed mean  5242480.82\n",
       "median        4779736.00"
      ]
     },
     "execution_count": 65,
     "metadata": {},
     "output_type": "execute_result"
    }
   ],
   "source": [
    "est_df.sort_values(by=\"Value\", ascending=False)"
   ]
  },
  {
   "cell_type": "markdown",
   "id": "c948e91e-ad18-4e0a-a6e4-200d6da5eb87",
   "metadata": {},
   "source": [
    "**Answer:** They are arranged in that order because it some states with a much higher population are responsible for increasing the average population size. If we look at the trimmed mean and median they are much closer to each other because they are more robust to outliers."
   ]
  },
  {
   "cell_type": "markdown",
   "id": "aab5aec7-83b8-4725-890a-05ee2c8909d0",
   "metadata": {},
   "source": [
    "## Murder Rate:\n",
    "\n",
    "We will now carry out the calculations for the murder rate as described in the assignment"
   ]
  },
  {
   "cell_type": "markdown",
   "id": "aaa85d6c-abac-438b-b6b1-8aa2d097e62e",
   "metadata": {},
   "source": [
    "### 5. **Weighted Mean**\n",
    "\n",
    "What is the **population-weighted mean murder rate**?"
   ]
  },
  {
   "attachments": {
    "3aaabebd-56a3-494a-a6d3-c091cf021994.png": {
     "image/png": "[encoded data removed]"
    }
   },
   "cell_type": "markdown",
   "id": "8ea31595-10c5-46b7-957b-29f9530ec731",
   "metadata": {},
   "source": [
    "Formula:\n",
    "\n",
    "![image.png](attachment:3aaabebd-56a3-494a-a6d3-c091cf021994.png)"
   ]
  },
  {
   "cell_type": "code",
   "execution_count": 67,
   "id": "b7a5caf3-f563-4fbd-871d-233be72caed5",
   "metadata": {},
   "outputs": [
    {
     "name": "stdout",
     "output_type": "stream",
     "text": [
      "Manually calculated weighted mean: 4.722413481854619\n",
      "Automatically weighted mean: 4.722413481854619\n"
     ]
    }
   ],
   "source": [
    "# Import library\n",
    "import numpy as np\n",
    "\n",
    "# Create variable to store total of WiXi and Wi\n",
    "total_wixi = 0\n",
    "total_wi = 0\n",
    "\n",
    "# Create loop to multiply \"Wi\" and \"Xi\"\n",
    "for i in range(n):\n",
    "    wi = state.iloc[i, 1]\n",
    "    xi = state.iloc[i, 2]\n",
    "\n",
    "    total_wixi += (wi * xi)\n",
    "    total_wi += wi\n",
    "\n",
    "# Get weighted mean\n",
    "weighted_mean = total_wixi / total_wi\n",
    "\n",
    "# print results:\n",
    "print(f\"Manually calculated weighted mean: {weighted_mean}\")\n",
    "print(f\"Automatically weighted mean: {np.average(state['Murder.Rate'], weights=state['Population'])}\")"
   ]
  },
  {
   "cell_type": "markdown",
   "id": "6d18e85a-f17c-4a47-8fc2-1517d4b30812",
   "metadata": {},
   "source": [
    "### 6. **Weighted Median (Optional)**\n",
    "\n",
    "What is the **population-weighted median murder rate**?\n",
    "\n",
    "**NOTE:** Weighted median doesn't show up in the book \"Practical Statistics for Data Science\". It is optional for you whether you wanted to do it or not. To do this question you will have to look up Weighted Median online. Good luck soldier!"
   ]
  },
  {
   "cell_type": "markdown",
   "id": "6d994f81-e9b3-4773-aa13-5d65fb219d07",
   "metadata": {},
   "source": [
    "### 7. **Robustness**\n",
    "\n",
    "Which of the following statistics is **most robust to outliers** in the population: mean, trimmed mean, or median? Justify your answer based on your results."
   ]
  },
  {
   "cell_type": "markdown",
   "id": "b8f460b5-3bee-483f-b60d-f5776279bdc9",
   "metadata": {},
   "source": [
    "First let's look at them together:"
   ]
  },
  {
   "cell_type": "code",
   "execution_count": 68,
   "id": "30e28b22-061f-4028-8db1-10187d93b2a0",
   "metadata": {},
   "outputs": [
    {
     "data": {
      "text/html": [
       "<div>\n",
       "<style scoped>\n",
       "    .dataframe tbody tr th:only-of-type {\n",
       "        vertical-align: middle;\n",
       "    }\n",
       "\n",
       "    .dataframe tbody tr th {\n",
       "        vertical-align: top;\n",
       "    }\n",
       "\n",
       "    .dataframe thead th {\n",
       "        text-align: right;\n",
       "    }\n",
       "</style>\n",
       "<table border=\"1\" class=\"dataframe\">\n",
       "  <thead>\n",
       "    <tr style=\"text-align: right;\">\n",
       "      <th></th>\n",
       "      <th>Value</th>\n",
       "    </tr>\n",
       "  </thead>\n",
       "  <tbody>\n",
       "    <tr>\n",
       "      <th>mean</th>\n",
       "      <td>7688714.67</td>\n",
       "    </tr>\n",
       "    <tr>\n",
       "      <th>median</th>\n",
       "      <td>4779736.00</td>\n",
       "    </tr>\n",
       "    <tr>\n",
       "      <th>trimmed mean</th>\n",
       "      <td>5242480.82</td>\n",
       "    </tr>\n",
       "  </tbody>\n",
       "</table>\n",
       "</div>"
      ],
      "text/plain": [
       "                   Value\n",
       "mean          7688714.67\n",
       "median        4779736.00\n",
       "trimmed mean  5242480.82"
      ]
     },
     "execution_count": 68,
     "metadata": {},
     "output_type": "execute_result"
    }
   ],
   "source": [
    "est_df"
   ]
  },
  {
   "cell_type": "markdown",
   "id": "814146a1-0386-494c-b621-a882920eb6cb",
   "metadata": {},
   "source": [
    "**Answer:** I believe that the **median** is the most robust to outliers because it will always fall on the midpoint population whether the highest or lowest population counts are in extremes. "
   ]
  }
 ],
 "metadata": {
  "kernelspec": {
   "display_name": "Python 3 (ipykernel)",
   "language": "python",
   "name": "python3"
  },
  "language_info": {
   "codemirror_mode": {
    "name": "ipython",
    "version": 3
   },
   "file_extension": ".py",
   "mimetype": "text/x-python",
   "name": "python",
   "nbconvert_exporter": "python",
   "pygments_lexer": "ipython3",
   "version": "3.13.1"
  }
 },
 "nbformat": 4,
 "nbformat_minor": 5
}
